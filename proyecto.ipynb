{
 "cells": [
  {
   "attachments": {},
   "cell_type": "markdown",
   "metadata": {},
   "source": [
    "## Proyecto Vision Artificial: Cat VS Dog\n",
    "#### Proyecto realizado por Daniel Pérez e Iván Sola"
   ]
  },
  {
   "cell_type": "code",
   "execution_count": 1,
   "metadata": {},
   "outputs": [],
   "source": [
    "import numpy as np\n",
    "import cv2\n",
    "import pandas as pd\n",
    "import os\n",
    "from matplotlib import pyplot as plt\n",
    "from skimage.transform import resize\n",
    "from sklearn.ensemble import AdaBoostClassifier\n",
    "from sklearn.tree import DecisionTreeClassifier\n",
    "from sklearn.linear_model import LogisticRegression\n",
    "from sklearn.neural_network import MLPClassifier\n"
   ]
  },
  {
   "attachments": {},
   "cell_type": "markdown",
   "metadata": {},
   "source": [
    "def LeerCarpetas(ruta_train, ruta_test):\n",
    "\n",
    "- ruta_train: ruta de la carpeta de los ejemplos de train\n",
    "\n",
    "- ruta_test: ruta de la carpeta de los ejemplos de test \n",
    "\n",
    "Devuelve todos los nombres de las imagenes tanto de train como de test en dos listas de strings"
   ]
  },
  {
   "cell_type": "code",
   "execution_count": 2,
   "metadata": {},
   "outputs": [],
   "source": [
    "def LeerCarpetas(ruta_train, ruta_test):\n",
    "    path_train, dirs_train, files_train = next(os.walk(ruta_train))\n",
    "    file_count_train = len(files_train)\n",
    "    print(\"Numero de imagenes en cada carpeta en train: \",file_count_train)\n",
    "    for i in range (len(files_train)):\n",
    "        files_train[i] = ruta_train + \"/\" + files_train[i] \n",
    "\n",
    "    path_test, dirs_test, files_test = next(os.walk(ruta_test))\n",
    "    file_count_test = len(files_test)\n",
    "    print(\"Numero de imagenes en cada carpeta en test: \",file_count_test , \"\\n\")\n",
    "    for i in range (len(files_test)):\n",
    "        files_test[i] = ruta_test + \"/\" + files_test[i] \n",
    "    return files_train, files_test\n"
   ]
  },
  {
   "attachments": {},
   "cell_type": "markdown",
   "metadata": {},
   "source": [
    "#### def calcularDimensionMedia(ejemplos):\n",
    "    \n",
    "- ejemplos: parámetro que dispone de una lista de los nombres de imágenes\n",
    "\n",
    "devuelve la dimension media entre todas las imagenes de esta lista"
   ]
  },
  {
   "cell_type": "code",
   "execution_count": 3,
   "metadata": {},
   "outputs": [],
   "source": [
    "def calcularDimensionMedia(ejemplos):\n",
    "    dimensionMedia = np.array([0,0])\n",
    "    for i in range (len(ejemplos)):\n",
    "        dimension = cv2.imread(ejemplos[i], cv2.IMREAD_GRAYSCALE).shape\n",
    "        dimensionMedia = dimensionMedia + dimension\n",
    "    dimensionMedia = dimensionMedia//len(ejemplos)\n",
    "    return dimensionMedia"
   ]
  },
  {
   "attachments": {},
   "cell_type": "markdown",
   "metadata": {},
   "source": [
    "#### def redimensionarImagen(imagenOriginal, tamañoBloque, dimension):\n",
    "- imagenOriginal : parametro que contiene una imagen\n",
    "- tamañoBloque : tamaño de los bloques en los que se va a dividir la imagen\n",
    "- dimension : dimension a la que vamos a redimensionar la imagen\n",
    "\n",
    "Esta función devuelve una imagen redimensionada con tamaño dimension y también de forma que la matriz de salida sea divisible entre la matriz bloque, asi consiguiendo un numero de bloques justo para la imagen y no tener problemas"
   ]
  },
  {
   "cell_type": "code",
   "execution_count": 4,
   "metadata": {},
   "outputs": [],
   "source": [
    "#Redimensionamos imagen para que sea divisible entre (numeroBloque x numeroBloque)\n",
    "def redimensionarImagen(imagenOriginal, tamañoBloque, dimension):\n",
    "    imagenOriginal = resize(imagenOriginal, (dimension))\n",
    "    filasImagen, columnasImagen = imagenOriginal.shape\n",
    "    topbottom = int(tamañoBloque - filasImagen%tamañoBloque)\n",
    "    leftright = int (tamañoBloque - columnasImagen%tamañoBloque)\n",
    "    if (topbottom%2 == 0 and leftright%2 == 0):\n",
    "        imagen_ampliada = cv2.copyMakeBorder(imagenOriginal, topbottom//2, topbottom//2, leftright//2, leftright//2, cv2.BORDER_REPLICATE)\n",
    "    elif (topbottom%2 == 1 and leftright%2 == 1):\n",
    "        imagen_ampliada = cv2.copyMakeBorder(imagenOriginal, (topbottom//2)+1, topbottom//2, (leftright//2)+1, leftright//2, cv2.BORDER_REPLICATE)\n",
    "    elif (topbottom%2 == 1 and leftright%2 == 0):\n",
    "        imagen_ampliada = cv2.copyMakeBorder(imagenOriginal, (topbottom//2)+1, topbottom//2, leftright//2, leftright//2, cv2.BORDER_REPLICATE)\n",
    "    else:\n",
    "        imagen_ampliada = cv2.copyMakeBorder(imagenOriginal, topbottom//2, topbottom//2, (leftright//2+1), leftright//2, cv2.BORDER_REPLICATE)\n",
    "    print(\"El tamaño de la imagen final es: \", imagen_ampliada.shape)\n",
    "    print(\"numero de bloques\", imagen_ampliada.size/(tamañoBloque*tamañoBloque))\n",
    "    return imagen_ampliada\n",
    "    "
   ]
  },
  {
   "attachments": {},
   "cell_type": "markdown",
   "metadata": {},
   "source": [
    "#### def divisionImagen(imagen_ampliada, tamañoBloque):\n",
    "- imagen_ampliada: imagen conseguida con la anterior función\n",
    "- tamañoBloque: tamaño del bloque en la que se va a dividir la imagen\n",
    "\n",
    "Devuelve una imagen dividia en tantos bloques como imagen_ampliada.size/(tamañoBloque*tamañoBloque)"
   ]
  },
  {
   "cell_type": "code",
   "execution_count": 5,
   "metadata": {},
   "outputs": [],
   "source": [
    "#Dividimos imagen en bloques de (numeroBloque X numeroBloque)\n",
    "def divisionImagen(imagen_ampliada, tamañoBloque):\n",
    "    tamañoImagen = imagen_ampliada.size\n",
    "    filasImagen, columnasImagen = imagen_ampliada.shape\n",
    "    numeroBloques = int(imagen_ampliada.size/(tamañoBloque*tamañoBloque))\n",
    "    imagenDividida = np.zeros(shape=[numeroBloques, tamañoBloque, tamañoBloque])\n",
    "    cont = 0\n",
    "    for i in (np.arange(0, filasImagen, tamañoBloque)):\n",
    "        for j in (np.arange(0, columnasImagen, tamañoBloque)):\n",
    "            imagenDividida[cont] = imagen_ampliada[i:(i+tamañoBloque), j:(j+tamañoBloque)]\n",
    "            cont+=1\n",
    "    return imagenDividida\n"
   ]
  },
  {
   "attachments": {},
   "cell_type": "markdown",
   "metadata": {},
   "source": [
    "#### def convertirBinarioADecimal (binario):\n",
    "- binario: parámetro que es un numero binario que puede ser tanto un string como un entero. Devolvemos el número decimal de este binario.\n",
    "\n",
    "devuelve el numero en decimal"
   ]
  },
  {
   "cell_type": "code",
   "execution_count": 6,
   "metadata": {},
   "outputs": [],
   "source": [
    "#Función que le pasas un número binario, ya sea en modo int o string y te lo pasa a decimal\n",
    "def convertirBinarioADecimal (binario):\n",
    "    binario = str(binario)\n",
    "    suma = 0\n",
    "    for i in range (len(binario)-1,-1, -1):\n",
    "        if (binario[len(binario)-i-1] == '1'):\n",
    "            suma = suma + (2**i)\n",
    "    return suma\n"
   ]
  },
  {
   "attachments": {},
   "cell_type": "markdown",
   "metadata": {},
   "source": [
    "#### def modificarPixeles(bloque):\n",
    "- bloque: parámetro que será una celda correspoendente a una imagen ya dividida\n",
    "\n",
    "devuelve un bloqueModificado en el que tratamos los vecinos de cada pixel de este bloque y transformamos este pixel en el número binario que forman sus vecinos, siendo 1 cuando un vecino mayor y un 0 cuando es menor del pixel central. Así empezando por el pixel de arriba y recorriéndolo al contrario de las agujas del reloj para conseguir un número binario que después transformaremos a decimal con la función definida anteriormente"
   ]
  },
  {
   "cell_type": "code",
   "execution_count": 7,
   "metadata": {},
   "outputs": [],
   "source": [
    "#Funcion que modifica los píxeles de la imagen que realiza el algoritmo que sacará el número binario entre los vecinos del pixel que estemos tratando\n",
    "# Si los vecinos son mayores que el pixel central será 1 y si no 0, la forma de recorrerlo para hallar el número binario es empezar por el de arriba del\n",
    "# pixel que estamos tratando y siguiendo al contrario de las agujas del reloj\n",
    "def modificarPixeles(bloque):\n",
    "    filasBloque, columnasBloque = bloque.shape\n",
    "    bloqueModificado = np.zeros(shape=bloque.shape)\n",
    "    bloque = cv2.copyMakeBorder(bloque, 1, 1, 1, 1, cv2.BORDER_REPLICATE)\n",
    "\n",
    "    for i in range (1, filasBloque+1):\n",
    "        for j in range (1, columnasBloque+1):\n",
    "            vectorVecinos = np.array([bloque[i+1,j], bloque[i+1,j-1], bloque[i,j-1] , bloque[i-1,j-1], bloque[i-1,j], bloque[i-1,j+1], bloque[i,j+1], bloque[i+1,j+1]])\n",
    "            binario = np.int64(vectorVecinos >= bloque[i][j])\n",
    "            bloqueModificado[i-1][j-1] = convertirBinarioADecimal(repr(binario[0])+repr(binario[1])+repr(binario[2])+repr(binario[3])+repr(binario[4])+repr(binario[5])+repr(binario[6])+repr(binario[7]))\n",
    "    return bloqueModificado"
   ]
  },
  {
   "attachments": {},
   "cell_type": "markdown",
   "metadata": {},
   "source": [
    "#### def calcCaracteristicas(bloquesModificados):\n",
    "\n",
    "- bloquesModificados: matriz tridimensional que contiene el número de bloques modificados obtenidos de la función anterior\n",
    "\n",
    "devuelve un parámetro caract que almacena todas las características de cada bloque, siendo cada una de estas el histograma correspondiente para ese bloque entre el pixel 0 y 256, es decir cada vector características tiene un tamaño de 256."
   ]
  },
  {
   "cell_type": "code",
   "execution_count": 8,
   "metadata": {},
   "outputs": [],
   "source": [
    "#Función que calcula las características de la imagen a partir de los bloques modificados\n",
    "# Calculamos el histograma de cada bloque y concatenamos todos en orden de bloque\n",
    "def calcCaracteristicas(bloquesModificados):\n",
    "    bloquesModificados = np.uint8(bloquesModificados)\n",
    "    numeroBloques, filasBloques, columnasBloques = bloquesModificados.shape\n",
    "    caract = np.array([])\n",
    "    for i in range (int(numeroBloques)):\n",
    "        h = cv2.calcHist([bloquesModificados[i]], [0], None, [256], [0,256])\n",
    "        caract = np.concatenate((caract, h.ravel()))\n",
    "    return np.uint8(caract)"
   ]
  },
  {
   "attachments": {},
   "cell_type": "markdown",
   "metadata": {},
   "source": [
    "#### def calcCaracterísticas2(bloquesModificados):\n",
    "    \n",
    "Funcion que calcula las características de una segunda forma (No es usada)"
   ]
  },
  {
   "cell_type": "code",
   "execution_count": 9,
   "metadata": {},
   "outputs": [],
   "source": [
    "#Función que no utilizamos, calcula las características de una forma concreta\n",
    "def calcCaracterísticas2(bloquesModificados):\n",
    "    bloquesModificados = np.uint8(bloquesModificados)\n",
    "    numeroBloques, filasBloques, columnasBloques = bloquesModificados.shape\n",
    "    bloquesCaract = np.zeros(shape = bloquesModificados.shape)\n",
    "    for i in range (int(numeroBloques)):\n",
    "        h = cv2.calcHist([bloquesModificados[i]], [0], None, [256], [0,256])\n",
    "        bloquesCaract[i] = h[bloquesModificados[i]].reshape([filasBloques,columnasBloques])\n",
    "    return bloquesCaract"
   ]
  },
  {
   "attachments": {},
   "cell_type": "markdown",
   "metadata": {},
   "source": [
    "#### def filtro(imagen, mascara):\n",
    "\n",
    "Funcion que calcula el filtro de una mascara (no utilizada)"
   ]
  },
  {
   "cell_type": "code",
   "execution_count": 10,
   "metadata": {},
   "outputs": [],
   "source": [
    "def filtro(imagen, mascara):\n",
    "    dim = imagen.ndim\n",
    "    shape = imagen.shape\n",
    "    print(mascara.shape)\n",
    "    filasMascara = mascara.shape[0]//2\n",
    "    columnasMascara = mascara.shape[1]//2\n",
    "\n",
    "    imagen_ampliada = cv2.copyMakeBorder(imagen, filasMascara, filasMascara, columnasMascara, columnasMascara, cv2.BORDER_REPLICATE)\n",
    "    imagen_ampliada = np.array(imagen_ampliada, dtype=np.float64)\n",
    "\n",
    "    imagen2 = np.zeros(shape)\n",
    "    imagen2 = np.array(imagen2, dtype=np.float64)\n",
    "\n",
    "    for i in range (filasMascara,(shape[0] + filasMascara)):\n",
    "        for j in range (columnasMascara,(shape[1] + columnasMascara)):\n",
    "            imagen2[i - filasMascara][j - columnasMascara] = np.sum(np.multiply(imagen_ampliada[(i-filasMascara):(i+filasMascara+1),(j-columnasMascara):(j+columnasMascara+1)], mascara))\n",
    "    return imagen2\n"
   ]
  },
  {
   "attachments": {},
   "cell_type": "markdown",
   "metadata": {},
   "source": [
    "#### def filtro_x(imagen, mascara):\n",
    "\n",
    "Funcion que calcula el filtrado de la imagen de una máscara vector, como por ejemplo (-1, 0, 1) siendo esta un vector 1x3"
   ]
  },
  {
   "cell_type": "code",
   "execution_count": 11,
   "metadata": {},
   "outputs": [],
   "source": [
    "def filtro_x(imagen, mascara):\n",
    "    dim = imagen.ndim\n",
    "    filas, columnas = imagen.shape\n",
    "    \n",
    "    tamañoVector = mascara.size//2\n",
    "\n",
    "    imagen_ampliada = cv2.copyMakeBorder(imagen, 0, 0, tamañoVector, tamañoVector, cv2.BORDER_REPLICATE)\n",
    "    imagen_ampliada = np.array(imagen_ampliada, dtype=np.uint8)\n",
    "\n",
    "    imagen2 = np.zeros(shape=[filas, columnas])\n",
    "\n",
    "    for i in range (filas):\n",
    "        for j in range (tamañoVector, columnas+tamañoVector):\n",
    "            imagen2[i][j-tamañoVector] = np.sum(np.multiply(imagen_ampliada[i, (j-tamañoVector):(j+tamañoVector+1)], mascara))\n",
    "    return imagen2\n"
   ]
  },
  {
   "attachments": {},
   "cell_type": "markdown",
   "metadata": {},
   "source": [
    "#### def filtro_y(imagen, mascara):\n",
    "    \n",
    "Funcion que calcula el filtro de la imagen de la máscaray (-1, 0, 1), siendo esta un vector 3x1"
   ]
  },
  {
   "cell_type": "code",
   "execution_count": 12,
   "metadata": {},
   "outputs": [],
   "source": [
    "def filtro_y(imagen, mascara):\n",
    "    dim = imagen.ndim\n",
    "    filas, columnas = imagen.shape\n",
    "    tamañoVector = mascara.size//2\n",
    "\n",
    "    imagen_ampliada = cv2.copyMakeBorder(imagen, tamañoVector, tamañoVector, 0, 0, cv2.BORDER_REPLICATE)\n",
    "    imagen_ampliada = np.array(imagen_ampliada, dtype=np.uint8)\n",
    "\n",
    "    imagen2 = np.zeros(shape=[filas, columnas])\n",
    "\n",
    "    for i in range (tamañoVector, filas + tamañoVector):\n",
    "        for j in range(columnas):\n",
    "            imagen2[i-tamañoVector][j] = np.sum(np.multiply(imagen_ampliada[(i-tamañoVector):(i+tamañoVector+1), j], mascara.ravel()))\n",
    "    return imagen2"
   ]
  },
  {
   "attachments": {},
   "cell_type": "markdown",
   "metadata": {},
   "source": [
    "#### def gradiente(imagen):\n",
    "\n",
    "- imagen: matriz bidimensional que representa una imagen\n",
    "\n",
    "devuelve la imagen de magnitudes y la imagen de orientaciones usando las dos funciones de filtrado anteriores"
   ]
  },
  {
   "cell_type": "code",
   "execution_count": 13,
   "metadata": {},
   "outputs": [],
   "source": [
    "def gradiente(imagen):\n",
    "    m_g_x = np.array([-1,0,1])\n",
    "    m_g_y = np.array([[-1], [0], [1]])\n",
    "\n",
    "    imagenx = filtro_x(imagen, m_g_x)\n",
    "    imageny = filtro_y(imagen, m_g_y)\n",
    "    \n",
    "    ##Imagen de magnitudes\n",
    "    E = np.sqrt(np.power(imagenx, 2) + np.power(imageny, 2))\n",
    "\n",
    "    #Imagen de orientación\n",
    "    Phi = np.arctan2(imagenx, imageny)\n",
    "    \n",
    "    return E, np.rad2deg(Phi)"
   ]
  },
  {
   "attachments": {},
   "cell_type": "markdown",
   "metadata": {},
   "source": [
    "#### def calcularHist(Phi, E):\n",
    "- Phi: imagen de orientaciones de un bloque o celda\n",
    "- E: imagen de magnitudes de un bloque o celda\n",
    " \n",
    "devuelve un histograma, el cual es un vector de tamaño 9 obtenido de un bloque de la imagen que estemos tratando, de forma que por ejemplo en la posicion histograma[i] encontraremos la suma de magnitudes de todos los pixeles que pertenecen a la clase i de las orientaciones. En mi caso entre -20 grados y 20 grados es clase 1, entre 40 y 20, y, entre -20 y -40 es clase 2 etc."
   ]
  },
  {
   "cell_type": "code",
   "execution_count": 14,
   "metadata": {},
   "outputs": [],
   "source": [
    "def calcularHist(Phi, E):\n",
    "    shapePhi = Phi.shape\n",
    "    Phi_discretizado = np.zeros(shapePhi)\n",
    "    hist = np.zeros(9)\n",
    "    for i in range (shapePhi[0]):\n",
    "        for j in range (shapePhi[1]):\n",
    "            grado = Phi[i][j]\n",
    "            if (-20 <= grado <= 20):\n",
    "                hist[0] += E[i][j] \n",
    "            elif ((-20 >= grado >= -40) or (20 <= grado >= 40)):\n",
    "                hist[1] += E[i][j]\n",
    "            elif ((-40 >= grado >= -60) or (40 <= grado <= 60)):\n",
    "                hist[2] += E[i][j]\n",
    "            elif ((-60 >= grado >= -80) or (60 <= grado <= 80)):\n",
    "                hist[3] += E[i][j]\n",
    "            elif ((-80 >= grado >= -100) or (80 <= grado <= 100)):\n",
    "                hist[4] += E[i][j]\n",
    "            elif ((-100 >= grado >= -120) or (100 <= grado <= 120)):\n",
    "                hist[5] += E[i][j]\n",
    "            elif ((-120 >= grado >= -140) or (120 <= grado <= 140)):\n",
    "                hist[6] += E[i][j]\n",
    "            elif ((-140 >= grado >= -160) or (140 <= grado <= 160)):\n",
    "                hist[7] += E[i][j]\n",
    "            elif ((-160 >= grado >= -180) or (160 <= grado <= 180)):\n",
    "                hist[8] += E[i][j]\n",
    "    return hist\n"
   ]
  },
  {
   "attachments": {},
   "cell_type": "markdown",
   "metadata": {},
   "source": [
    "#### def normalizarHist(hist):\n",
    "\n",
    "Devuelve el histograma normalizado mediante la norma de euclides"
   ]
  },
  {
   "cell_type": "code",
   "execution_count": 15,
   "metadata": {},
   "outputs": [],
   "source": [
    "def normalizarHist(hist):\n",
    "    if (np.sum(hist) == 0):\n",
    "        return hist\n",
    "    else:\n",
    "        return hist/np.sqrt(np.sum(np.power(hist,2)))"
   ]
  },
  {
   "attachments": {},
   "cell_type": "markdown",
   "metadata": {},
   "source": [
    "### Extracción de carácterísticas 1\n",
    "1. En primer lugar redimensionamos la imagen, en base a una dimension introducida, para que\n",
    "así, todas las imágenes dispongan del mismo tamaño y no tengamos problemas a la hora de trabajar\n",
    "con sus características.\n",
    "2. Dividimos la imagen en bloques disjuntos de NxN píxeles (por ejemplo, N = 16). A estos\n",
    "bloques les llamaremos celdas. Es decir, ahora trabajaremos sobre una matriz tridimensional\n",
    "de (numeroDeBloques)x(tamañoBloque)x(tamañoBloque)\n",
    "3. Para cada píxel de la celda, lo vamos a comparar con cada uno de sus 8 vecinos,\n",
    "empezando, por ejemplo, por el de arriba a la izquierda y siguiendo la dirección al contrario\n",
    "de las agujas del reloj.\n",
    "4. Los valores de los 8 vecinos los vamos a sustituir por un 0 o un 1 en función de si el\n",
    "vecino es menor (0) o mayor (1) que el píxel central.\n",
    "5. Una vez realizado este cambio, si tomamos el valor de los 8 vecinos siguiendo la misma\n",
    "distribución que en el paso anterior, nos generará un número binario que, al\n",
    "transformarlo a decimal, resultará en un número entre 0 y 255\n",
    "6. Modificaremos el valor del píxel por el del número decimal obtenido.\n",
    "7. Finalmente obtendremos el histograma obtenido de los bloques que hemos modificado como\n",
    "hemos explicado anteriormente, y los iremos concatenando en orden de bloque así generando \n",
    "un vector de tamaño 1x((numeroDeBloques)x256), que resultará ser el vector de características\n",
    "de la imagen."
   ]
  },
  {
   "attachments": {},
   "cell_type": "markdown",
   "metadata": {},
   "source": [
    "#### def extraccionCaracteristicas1(imagenOriginal, tamañoBloque, dimension):\n",
    "\n",
    "Primera forma de extraccion de características"
   ]
  },
  {
   "cell_type": "code",
   "execution_count": 16,
   "metadata": {},
   "outputs": [],
   "source": [
    "#Realiza todo el proceso de extracción de características con ayuda de las funciones definidas anteriormente\n",
    "def extraccionCaracteristicas1(imagenOriginal, tamañoBloque, dimension):\n",
    "    imagen_ampliada = redimensionarImagen(imagenOriginal, tamañoBloque, dimension)\n",
    "    imagenDividida = divisionImagen(imagen_ampliada, tamañoBloque)\n",
    "    bloquesModificados = np.zeros(shape=imagenDividida.shape)\n",
    "    for i in range (imagenDividida.shape[0]):\n",
    "        bloquesModificados[i] = modificarPixeles(imagenDividida[i])\n",
    "    caract = calcCaracteristicas(bloquesModificados)\n",
    "    return (caract)"
   ]
  },
  {
   "attachments": {},
   "cell_type": "markdown",
   "metadata": {},
   "source": [
    "### Extracción de carácterísticas 2 \n",
    "1. En primer lugar redimensionamos la imagen, en base a una dimension introducida, para que\n",
    "así, todas las imágenes dispongan del mismo tamaño y no tengamos problemas a la hora de trabajar\n",
    "con sus características.\n",
    "2. Aplicar un filtro espacial de aproximación de la derivada parcial en ambas direcciones\n",
    "mediante las máscaras de convolución (−1,0,1) y (−1,0,1), siendo la primera la mascara para x \n",
    "y un vector de 1x3 y la segunda la mascara de y, vector de 3x1\n",
    "3. Calculamos la magnitud y orientación de gradiente de la imagen\n",
    "4. Dividir la imagen, tanto de magnitudes como de orientaciones en bloques disjuntos de NxN\n",
    "píxeles (por ejemplo, N = 16). A estos bloques les llamaremos celdas\n",
    "5. Calculamos un histograma para cada uno de los bloques. El histograma estará formado\n",
    "por 9 valores o bins. El primer bin servirá para las orientaciones entre -20\n",
    "y 20 grados; el segundo para las orientaciones entre 20 y 40 y entre -40 y -20; y así\n",
    "sucesivamente.\n",
    "6. Para rellenar el histograma, no vamos a hacer un conteo de cuántas orientaciones hay\n",
    "en cada bin, sino que rellenaremos el histograma mediante el valor de la magnitud del\n",
    "gradiente. Por ejemplo, si el primer píxel de la celda tiene orientación 45º, entonces en\n",
    "el bin asociado a 45º (tercer bin) sumaremos el valor de la magnitud en dicho punto.\n",
    "Una vez sumadas las magnitudes en cada correspondiente bin, tendremos un vector de\n",
    "9 valores para cada celda.\n",
    "7. Vamos a normalizar el histograma, dividiéndolo entre el valor de la norma euclídea de\n",
    "los 9 valores (raíz cuadrada de la suma al cuadrado de los valores).\n",
    "8. Finalmente iremos concatenando las características de cada imagen para crear el vector características"
   ]
  },
  {
   "attachments": {},
   "cell_type": "markdown",
   "metadata": {},
   "source": [
    "#### def extraccionCaracteristicas2(imagenOriginal, tamañoBloque, dimension):\n",
    "\n",
    "Segunda forma de extracción de características"
   ]
  },
  {
   "cell_type": "code",
   "execution_count": 17,
   "metadata": {},
   "outputs": [],
   "source": [
    "def extraccionCaracteristicas2(imagenOriginal, tamañoBloque, dimension):\n",
    "    imagenRedimensionada = redimensionarImagen(imagenOriginal, tamañoBloque, dimension)\n",
    "    E, Phi = gradiente(imagenRedimensionada)\n",
    "    EDividido = divisionImagen(E, tamañoBloque)\n",
    "    PhiDividido = divisionImagen(Phi, tamañoBloque)\n",
    "    carac = np.array([])\n",
    "    for i in range (PhiDividido.shape[0]):\n",
    "        hist = calcularHist(PhiDividido[i], EDividido[i])\n",
    "        histNormalizado = normalizarHist(hist)\n",
    "        carac = np.concatenate((carac, histNormalizado)) \n",
    "    return (carac)"
   ]
  },
  {
   "attachments": {},
   "cell_type": "markdown",
   "metadata": {},
   "source": [
    "#### def extraerCaracteristicasImagenes1(nombreFichero, ejemplos, numeroBloque):\n",
    "- nombreFichero: nombre que vamos a poner a nuestro dataset\n",
    "- ejemplos: imagenes de las que vamos a tratar y extraer sus características\n",
    "- numeroBloque: numero de bloque en el que las imagenes se van a dividir\n",
    "\n",
    "Consiste en crear un dataset.csv con las características de cada ejemplo tratado del primer tipo de extraccion de características"
   ]
  },
  {
   "cell_type": "code",
   "execution_count": 18,
   "metadata": {},
   "outputs": [],
   "source": [
    "#Almacenamos las características de cada imagen en varios ficheros de texto\n",
    "import csv\n",
    "def extraerCaracteristicasImagenes1(nombreFichero, ejemplos, numeroBloque, dimension):\n",
    "    File = open(nombreFichero, 'w')\n",
    "    with File:  \n",
    "        writer = csv.writer(File)\n",
    "        text = []\n",
    "        for i in range (len(ejemplos)):\n",
    "            caract = extraccionCaracteristicas1(cv2.imread(ejemplos[i], cv2.IMREAD_GRAYSCALE), numeroBloque, dimension)\n",
    "            text.append(caract)\n",
    "        writer.writerows(text)"
   ]
  },
  {
   "attachments": {},
   "cell_type": "markdown",
   "metadata": {},
   "source": [
    "#### def extraerCaracteristicasImagenes2(nombreFichero, ejemplos, numeroBloque):\n",
    "\n",
    "Lo mismo que el anterior pero esta vez con el segundo tipo de extracción de características"
   ]
  },
  {
   "cell_type": "code",
   "execution_count": 19,
   "metadata": {},
   "outputs": [],
   "source": [
    "#Almacenamos las características de cada imagen en varios ficheros de texto\n",
    "import csv\n",
    "def extraerCaracteristicasImagenes2(nombreFichero, ejemplos, numeroBloque, dimension):\n",
    "    File = open(nombreFichero, 'w')\n",
    "    with File:  \n",
    "        writer = csv.writer(File)\n",
    "        text = []\n",
    "        for i in range (len(ejemplos)):\n",
    "            caract = extraccionCaracteristicas2(cv2.imread(ejemplos[i], cv2.IMREAD_GRAYSCALE), numeroBloque, dimension)\n",
    "            text.append(caract)\n",
    "        writer.writerows(text)"
   ]
  },
  {
   "attachments": {},
   "cell_type": "markdown",
   "metadata": {},
   "source": [
    "### COMENZAMOS CON LA EJECUCIÓN DEL PROYECTO\n",
    "Todos los pasos anteriores a este son funciones definidas que usaremos posteriormente para que el programa funcione"
   ]
  },
  {
   "attachments": {},
   "cell_type": "markdown",
   "metadata": {},
   "source": [
    "Ejemplo de como mostrar imagen cualquiera"
   ]
  },
  {
   "cell_type": "code",
   "execution_count": 20,
   "metadata": {},
   "outputs": [
    {
     "data": {
      "text/plain": [
       "<matplotlib.image.AxesImage at 0x26dec0fdcc0>"
      ]
     },
     "execution_count": 20,
     "metadata": {},
     "output_type": "execute_result"
    },
    {
     "data": {
      "image/png": "[encoded data removed]",
      "text/plain": [
       "<Figure size 640x480 with 1 Axes>"
      ]
     },
     "metadata": {},
     "output_type": "display_data"
    }
   ],
   "source": [
    "imagen = cv2.imread('cat_dog_100/train/cat/cat.0.jpg', cv2.IMREAD_GRAYSCALE)\n",
    "imagen_color = cv2.imread('cat_dog_100/train/cat/cat.0.jpg')\n",
    "imagen_color = cv2.cvtColor(imagen_color, cv2.COLOR_BGR2RGB) \n",
    "#cv2.imshow('Imagen gato', imagen)\n",
    "plt.imshow(imagen_color)"
   ]
  },
  {
   "cell_type": "code",
   "execution_count": 21,
   "metadata": {},
   "outputs": [
    {
     "data": {
      "text/plain": [
       "<matplotlib.image.AxesImage at 0x26dec58afb0>"
      ]
     },
     "execution_count": 21,
     "metadata": {},
     "output_type": "execute_result"
    },
    {
     "data": {
      "image/png": "[encoded data removed]",
      "text/plain": [
       "<Figure size 640x480 with 1 Axes>"
      ]
     },
     "metadata": {},
     "output_type": "display_data"
    }
   ],
   "source": [
    "plt.imshow(imagen)"
   ]
  },
  {
   "cell_type": "code",
   "execution_count": 22,
   "metadata": {},
   "outputs": [
    {
     "name": "stdout",
     "output_type": "stream",
     "text": [
      "(374, 500, 3)\n",
      "(374, 500)\n"
     ]
    }
   ],
   "source": [
    "print(imagen_color.shape)\n",
    "print(imagen.shape)"
   ]
  },
  {
   "attachments": {},
   "cell_type": "markdown",
   "metadata": {},
   "source": [
    "Extracción de los nombres de las imágenes de cada carpeta"
   ]
  },
  {
   "attachments": {},
   "cell_type": "markdown",
   "metadata": {},
   "source": [
    "Numero de imagenes en cada carpeta"
   ]
  },
  {
   "cell_type": "code",
   "execution_count": 23,
   "metadata": {},
   "outputs": [
    {
     "name": "stdout",
     "output_type": "stream",
     "text": [
      "Numero de imagenes en cada carpeta en train:  100\n",
      "Numero de imagenes en cada carpeta en test:  20 \n",
      "\n",
      "Numero de imagenes en cada carpeta en train:  100\n",
      "Numero de imagenes en cada carpeta en test:  20 \n",
      "\n",
      "Numero de imagenes en cada carpeta en train:  500\n",
      "Numero de imagenes en cada carpeta en test:  100 \n",
      "\n",
      "Numero de imagenes en cada carpeta en train:  500\n",
      "Numero de imagenes en cada carpeta en test:  100 \n",
      "\n"
     ]
    }
   ],
   "source": [
    "(cat100_train, cat100_test) = LeerCarpetas(\"cat_dog_100/train/cat\", \"cat_dog_100/test/cat\")\n",
    "(dog100_train, dog100_test) = LeerCarpetas(\"cat_dog_100/train/dog\", \"cat_dog_100/test/dog\")\n",
    "(cat500_train, cat500_test) = LeerCarpetas(\"cat_dog_500/train/cat\", \"cat_dog_500/test/cat\")\n",
    "(dog500_train, dog500_test) = LeerCarpetas(\"cat_dog_500/train/dog\", \"cat_dog_500/test/dog\")"
   ]
  },
  {
   "cell_type": "code",
   "execution_count": 24,
   "metadata": {},
   "outputs": [
    {
     "name": "stdout",
     "output_type": "stream",
     "text": [
      "['cat_dog_100/train/cat/cat.0.jpg', 'cat_dog_100/train/cat/cat.1.jpg', 'cat_dog_100/train/cat/cat.10.jpg', 'cat_dog_100/train/cat/cat.11.jpg', 'cat_dog_100/train/cat/cat.12.jpg', 'cat_dog_100/train/cat/cat.13.jpg', 'cat_dog_100/train/cat/cat.14.jpg', 'cat_dog_100/train/cat/cat.15.jpg', 'cat_dog_100/train/cat/cat.16.jpg', 'cat_dog_100/train/cat/cat.17.jpg']\n",
      "['cat_dog_100/test/cat/cat.10000.jpg', 'cat_dog_100/test/cat/cat.10001.jpg', 'cat_dog_100/test/cat/cat.10002.jpg', 'cat_dog_100/test/cat/cat.10003.jpg', 'cat_dog_100/test/cat/cat.10004.jpg', 'cat_dog_100/test/cat/cat.10005.jpg', 'cat_dog_100/test/cat/cat.10006.jpg', 'cat_dog_100/test/cat/cat.10007.jpg', 'cat_dog_100/test/cat/cat.10008.jpg', 'cat_dog_100/test/cat/cat.10009.jpg']\n"
     ]
    }
   ],
   "source": [
    "todosEjemplos = cat100_train + cat100_test + dog100_train + dog100_test + cat500_train + cat500_test + dog500_train + dog500_test\n",
    "print(todosEjemplos[0:10])\n",
    "print(todosEjemplos[100:110])"
   ]
  },
  {
   "attachments": {},
   "cell_type": "markdown",
   "metadata": {},
   "source": [
    "Podemos observar que las imágenes tienen diferentes tamaños"
   ]
  },
  {
   "cell_type": "code",
   "execution_count": 25,
   "metadata": {},
   "outputs": [
    {
     "name": "stdout",
     "output_type": "stream",
     "text": [
      "(359, 431)\n",
      "(374, 500)\n",
      "(471, 499)\n",
      "(375, 499)\n",
      "(239, 320)\n"
     ]
    }
   ],
   "source": [
    "for i in range (5):\n",
    "    imagen = cv2.imread(cat100_test[i], cv2.IMREAD_GRAYSCALE)\n",
    "    print(imagen.shape)"
   ]
  },
  {
   "attachments": {},
   "cell_type": "markdown",
   "metadata": {},
   "source": [
    "#### Ejemplo de extracción de características\n",
    "\n",
    "A continuación observaremos el funcionamiento de la extracción1 realizada y que valores devuelve"
   ]
  },
  {
   "cell_type": "code",
   "execution_count": 75,
   "metadata": {},
   "outputs": [
    {
     "name": "stdout",
     "output_type": "stream",
     "text": [
      "El tamaño de la imagen final es:  (416, 416)\n",
      "numero de bloques 676.0\n",
      "(173056,)\n",
      "[  0   0   0 ...   0   0 144]\n",
      "[  0   1   2   3   4   5   6   7   8   9  10  11  12  13  14  15  16  17\n",
      "  18  19  20  21  22  23  24  25  26  27  28  29  30  31  32  33  34  35\n",
      "  36  37  38  39  40  41  42  43  44  45  46  47  48  49  50  51  52  53\n",
      "  54  55  56  57  58  59  60  61  62  63  64  65  67  68  69  70  71  72\n",
      "  73  74  75  76  78  80  81  82  83  86  89  90  91  92  93  94  96  98\n",
      "  99 100 101 104 106 109 110 111 112 115 116 118 121 123 124 125 126 131\n",
      " 133 137 144 149 152 154 155 156 157 158 161 173 175 177 180 181 184 186\n",
      " 188 190 193 194 196 197 198 199 200 205 206 207 209 210 211 212 213 214\n",
      " 215 216 217 218 219 221 222 223 224 225 226 227 228 229 230 231 232 233\n",
      " 235 236 238 239 241 243 244 245 246 247 248 250 253 254 255]\n"
     ]
    }
   ],
   "source": [
    "imagen = cv2.imread(cat100_test[0], cv2.IMREAD_GRAYSCALE)\n",
    "(caract) = extraccionCaracteristicas1(imagen, 16, [400, 400])\n",
    "print(caract.shape)\n",
    "print(caract.ravel())\n",
    "print(np.unique(caract))"
   ]
  },
  {
   "attachments": {},
   "cell_type": "markdown",
   "metadata": {},
   "source": [
    "Seguimos con un mismo ejemplo, pero de la extraccion 2"
   ]
  },
  {
   "cell_type": "code",
   "execution_count": 76,
   "metadata": {},
   "outputs": [
    {
     "name": "stdout",
     "output_type": "stream",
     "text": [
      "El tamaño de la imagen final es:  (416, 416)\n",
      "numero de bloques 676.0\n",
      "(6084,)\n",
      "[0. 0. 0. ... 0. 0. 0.]\n",
      "[0.         0.07827195 0.08103105 0.16603987 0.22919043 0.30151134\n",
      " 0.32444284 0.33207974 0.33282012 0.37628835 0.40108325 0.40824829\n",
      " 0.44376016 0.48666426 0.57735027 0.81110711 0.81649658 0.83205029\n",
      " 0.84664878 0.88319756 0.90453403 0.92190065 1.        ]\n"
     ]
    }
   ],
   "source": [
    "imagen = cv2.imread(cat100_test[0], cv2.IMREAD_GRAYSCALE)\n",
    "caract = extraccionCaracteristicas2(imagen, 16, [400,400])\n",
    "print(caract.shape)\n",
    "print(caract.ravel())\n",
    "print(np.unique(caract))"
   ]
  },
  {
   "attachments": {},
   "cell_type": "markdown",
   "metadata": {},
   "source": [
    "#### Creamos datasets.csv de los ejemplos\n",
    "\n",
    "En este paso realizamos la extracción de características de todos los datos de todas las carpetas y almacenamos las características de cada ejemplo en un .csv correspondiente al fichero al que peternecen."
   ]
  },
  {
   "cell_type": "code",
   "execution_count": 28,
   "metadata": {},
   "outputs": [
    {
     "name": "stdout",
     "output_type": "stream",
     "text": [
      "[361 410]\n"
     ]
    }
   ],
   "source": [
    "numeroBloque = 16\n",
    "dimension = calcularDimensionMedia(todosEjemplos)\n",
    "print(dimension)"
   ]
  },
  {
   "cell_type": "code",
   "execution_count": 29,
   "metadata": {},
   "outputs": [
    {
     "name": "stdout",
     "output_type": "stream",
     "text": [
      "El tamaño de la imagen final es:  (368, 416)\n",
      "numero de bloques 598.0\n",
      "La imagen tiene  (153088,) características con el tamaño de imagen proporcionado.\n"
     ]
    }
   ],
   "source": [
    "#Ejemplo de la extracción de características con la dimensión que usaremos\n",
    "(caract) = extraccionCaracteristicas1(imagen, numeroBloque, dimension)\n",
    "print(\"La imagen tiene \", caract.shape, \"características con el tamaño de imagen proporcionado.\")"
   ]
  },
  {
   "cell_type": "code",
   "execution_count": 29,
   "metadata": {},
   "outputs": [
    {
     "name": "stdout",
     "output_type": "stream",
     "text": [
      "numero de bloques 598.0\n",
      "numero de bloques 598.0\n",
      "numero de bloques 598.0\n"
     ]
    },
    {
     "ename": "KeyboardInterrupt",
     "evalue": "",
     "output_type": "error",
     "traceback": [
      "\u001b[1;31m---------------------------------------------------------------------------\u001b[0m",
      "\u001b[1;31mKeyboardInterrupt\u001b[0m                         Traceback (most recent call last)",
      "Cell \u001b[1;32mIn [29], line 1\u001b[0m\n\u001b[1;32m----> 1\u001b[0m extraerCaracteristicasImagenes1(\u001b[39m\"\u001b[39m\u001b[39mcat_100_train.csv\u001b[39m\u001b[39m\"\u001b[39m, cat100_train, numeroBloque, dimension)\n\u001b[0;32m      2\u001b[0m extraerCaracteristicasImagenes1(\u001b[39m\"\u001b[39m\u001b[39mdog_100_train.csv\u001b[39m\u001b[39m\"\u001b[39m, dog100_train, numeroBloque, dimension)\n\u001b[0;32m      3\u001b[0m extraerCaracteristicasImagenes1(\u001b[39m\"\u001b[39m\u001b[39mcat_500_train.csv\u001b[39m\u001b[39m\"\u001b[39m, cat500_train, numeroBloque, dimension)\n",
      "Cell \u001b[1;32mIn [18], line 9\u001b[0m, in \u001b[0;36mextraerCaracteristicasImagenes1\u001b[1;34m(nombreFichero, ejemplos, numeroBloque, dimension)\u001b[0m\n\u001b[0;32m      7\u001b[0m text \u001b[39m=\u001b[39m []\n\u001b[0;32m      8\u001b[0m \u001b[39mfor\u001b[39;00m i \u001b[39min\u001b[39;00m \u001b[39mrange\u001b[39m (\u001b[39mlen\u001b[39m(ejemplos)):\n\u001b[1;32m----> 9\u001b[0m     caract \u001b[39m=\u001b[39m extraccionCaracteristicas1(cv2\u001b[39m.\u001b[39;49mimread(ejemplos[i], cv2\u001b[39m.\u001b[39;49mIMREAD_GRAYSCALE), numeroBloque, dimension)\n\u001b[0;32m     10\u001b[0m     text\u001b[39m.\u001b[39mappend(caract)\n\u001b[0;32m     11\u001b[0m writer\u001b[39m.\u001b[39mwriterows(text)\n",
      "Cell \u001b[1;32mIn [16], line 7\u001b[0m, in \u001b[0;36mextraccionCaracteristicas1\u001b[1;34m(imagenOriginal, tamañoBloque, dimension)\u001b[0m\n\u001b[0;32m      5\u001b[0m bloquesModificados \u001b[39m=\u001b[39m np\u001b[39m.\u001b[39mzeros(shape\u001b[39m=\u001b[39mimagenDividida\u001b[39m.\u001b[39mshape)\n\u001b[0;32m      6\u001b[0m \u001b[39mfor\u001b[39;00m i \u001b[39min\u001b[39;00m \u001b[39mrange\u001b[39m (imagenDividida\u001b[39m.\u001b[39mshape[\u001b[39m0\u001b[39m]):\n\u001b[1;32m----> 7\u001b[0m     bloquesModificados[i] \u001b[39m=\u001b[39m modificarPixeles(imagenDividida[i])\n\u001b[0;32m      8\u001b[0m caract \u001b[39m=\u001b[39m calcCaracteristicas(bloquesModificados)\n\u001b[0;32m      9\u001b[0m \u001b[39mreturn\u001b[39;00m (caract)\n",
      "Cell \u001b[1;32mIn [7], line 12\u001b[0m, in \u001b[0;36mmodificarPixeles\u001b[1;34m(bloque)\u001b[0m\n\u001b[0;32m     10\u001b[0m     \u001b[39mfor\u001b[39;00m j \u001b[39min\u001b[39;00m \u001b[39mrange\u001b[39m (\u001b[39m1\u001b[39m, columnasBloque\u001b[39m+\u001b[39m\u001b[39m1\u001b[39m):\n\u001b[0;32m     11\u001b[0m         vectorVecinos \u001b[39m=\u001b[39m np\u001b[39m.\u001b[39marray([bloque[i\u001b[39m+\u001b[39m\u001b[39m1\u001b[39m,j], bloque[i\u001b[39m+\u001b[39m\u001b[39m1\u001b[39m,j\u001b[39m-\u001b[39m\u001b[39m1\u001b[39m], bloque[i,j\u001b[39m-\u001b[39m\u001b[39m1\u001b[39m] , bloque[i\u001b[39m-\u001b[39m\u001b[39m1\u001b[39m,j\u001b[39m-\u001b[39m\u001b[39m1\u001b[39m], bloque[i\u001b[39m-\u001b[39m\u001b[39m1\u001b[39m,j], bloque[i\u001b[39m-\u001b[39m\u001b[39m1\u001b[39m,j\u001b[39m+\u001b[39m\u001b[39m1\u001b[39m], bloque[i,j\u001b[39m+\u001b[39m\u001b[39m1\u001b[39m], bloque[i\u001b[39m+\u001b[39m\u001b[39m1\u001b[39m,j\u001b[39m+\u001b[39m\u001b[39m1\u001b[39m]])\n\u001b[1;32m---> 12\u001b[0m         binario \u001b[39m=\u001b[39m np\u001b[39m.\u001b[39;49mint64(vectorVecinos \u001b[39m>\u001b[39;49m\u001b[39m=\u001b[39;49m bloque[i][j])\n\u001b[0;32m     13\u001b[0m         bloqueModificado[i\u001b[39m-\u001b[39m\u001b[39m1\u001b[39m][j\u001b[39m-\u001b[39m\u001b[39m1\u001b[39m] \u001b[39m=\u001b[39m convertirBinarioADecimal(\u001b[39mrepr\u001b[39m(binario[\u001b[39m0\u001b[39m])\u001b[39m+\u001b[39m\u001b[39mrepr\u001b[39m(binario[\u001b[39m1\u001b[39m])\u001b[39m+\u001b[39m\u001b[39mrepr\u001b[39m(binario[\u001b[39m2\u001b[39m])\u001b[39m+\u001b[39m\u001b[39mrepr\u001b[39m(binario[\u001b[39m3\u001b[39m])\u001b[39m+\u001b[39m\u001b[39mrepr\u001b[39m(binario[\u001b[39m4\u001b[39m])\u001b[39m+\u001b[39m\u001b[39mrepr\u001b[39m(binario[\u001b[39m5\u001b[39m])\u001b[39m+\u001b[39m\u001b[39mrepr\u001b[39m(binario[\u001b[39m6\u001b[39m])\u001b[39m+\u001b[39m\u001b[39mrepr\u001b[39m(binario[\u001b[39m7\u001b[39m]))\n\u001b[0;32m     14\u001b[0m \u001b[39mreturn\u001b[39;00m bloqueModificado\n",
      "\u001b[1;31mKeyboardInterrupt\u001b[0m: "
     ]
    }
   ],
   "source": [
    "#Tarda mucho tiempo en ejecutarse, 30 minutos aprox\n",
    "extraerCaracteristicasImagenes1(\"cat_100_train.csv\", cat100_train, numeroBloque, dimension)\n",
    "extraerCaracteristicasImagenes1(\"dog_100_train.csv\", dog100_train, numeroBloque, dimension)\n",
    "extraerCaracteristicasImagenes1(\"cat_500_train.csv\", cat500_train, numeroBloque, dimension)\n",
    "extraerCaracteristicasImagenes1(\"dog_500_train.csv\", dog500_train, numeroBloque, dimension)"
   ]
  },
  {
   "cell_type": "code",
   "execution_count": null,
   "metadata": {},
   "outputs": [
    {
     "name": "stdout",
     "output_type": "stream",
     "text": [
      "numero de bloques 598.0\n",
      "numero de bloques 598.0\n",
      "numero de bloques 598.0\n",
      "numero de bloques 598.0\n",
      "numero de bloques 598.0\n",
      "numero de bloques 598.0\n",
      "numero de bloques 598.0\n",
      "numero de bloques 598.0\n",
      "numero de bloques 598.0\n",
      "numero de bloques 598.0\n",
      "numero de bloques 598.0\n",
      "numero de bloques 598.0\n",
      "numero de bloques 598.0\n",
      "numero de bloques 598.0\n",
      "numero de bloques 598.0\n",
      "numero de bloques 598.0\n",
      "numero de bloques 598.0\n",
      "numero de bloques 598.0\n",
      "numero de bloques 598.0\n",
      "numero de bloques 598.0\n",
      "numero de bloques 598.0\n",
      "numero de bloques 598.0\n",
      "numero de bloques 598.0\n",
      "numero de bloques 598.0\n",
      "numero de bloques 598.0\n",
      "numero de bloques 598.0\n",
      "numero de bloques 598.0\n",
      "numero de bloques 598.0\n",
      "numero de bloques 598.0\n",
      "numero de bloques 598.0\n",
      "numero de bloques 598.0\n",
      "numero de bloques 598.0\n",
      "numero de bloques 598.0\n",
      "numero de bloques 598.0\n",
      "numero de bloques 598.0\n",
      "numero de bloques 598.0\n",
      "numero de bloques 598.0\n",
      "numero de bloques 598.0\n",
      "numero de bloques 598.0\n",
      "numero de bloques 598.0\n",
      "numero de bloques 598.0\n",
      "numero de bloques 598.0\n",
      "numero de bloques 598.0\n",
      "numero de bloques 598.0\n",
      "numero de bloques 598.0\n",
      "numero de bloques 598.0\n",
      "numero de bloques 598.0\n",
      "numero de bloques 598.0\n",
      "numero de bloques 598.0\n",
      "numero de bloques 598.0\n",
      "numero de bloques 598.0\n",
      "numero de bloques 598.0\n",
      "numero de bloques 598.0\n",
      "numero de bloques 598.0\n",
      "numero de bloques 598.0\n",
      "numero de bloques 598.0\n",
      "numero de bloques 598.0\n",
      "numero de bloques 598.0\n",
      "numero de bloques 598.0\n",
      "numero de bloques 598.0\n",
      "numero de bloques 598.0\n",
      "numero de bloques 598.0\n",
      "numero de bloques 598.0\n",
      "numero de bloques 598.0\n",
      "numero de bloques 598.0\n",
      "numero de bloques 598.0\n",
      "numero de bloques 598.0\n",
      "numero de bloques 598.0\n",
      "numero de bloques 598.0\n",
      "numero de bloques 598.0\n",
      "numero de bloques 598.0\n",
      "numero de bloques 598.0\n",
      "numero de bloques 598.0\n",
      "numero de bloques 598.0\n",
      "numero de bloques 598.0\n",
      "numero de bloques 598.0\n",
      "numero de bloques 598.0\n",
      "numero de bloques 598.0\n",
      "numero de bloques 598.0\n",
      "numero de bloques 598.0\n",
      "numero de bloques 598.0\n",
      "numero de bloques 598.0\n",
      "numero de bloques 598.0\n",
      "numero de bloques 598.0\n",
      "numero de bloques 598.0\n",
      "numero de bloques 598.0\n",
      "numero de bloques 598.0\n",
      "numero de bloques 598.0\n",
      "numero de bloques 598.0\n",
      "numero de bloques 598.0\n",
      "numero de bloques 598.0\n",
      "numero de bloques 598.0\n",
      "numero de bloques 598.0\n",
      "numero de bloques 598.0\n",
      "numero de bloques 598.0\n",
      "numero de bloques 598.0\n",
      "numero de bloques 598.0\n",
      "numero de bloques 598.0\n",
      "numero de bloques 598.0\n",
      "numero de bloques 598.0\n",
      "numero de bloques 598.0\n",
      "numero de bloques 598.0\n",
      "numero de bloques 598.0\n",
      "numero de bloques 598.0\n",
      "numero de bloques 598.0\n",
      "numero de bloques 598.0\n",
      "numero de bloques 598.0\n",
      "numero de bloques 598.0\n",
      "numero de bloques 598.0\n",
      "numero de bloques 598.0\n",
      "numero de bloques 598.0\n",
      "numero de bloques 598.0\n",
      "numero de bloques 598.0\n",
      "numero de bloques 598.0\n",
      "numero de bloques 598.0\n",
      "numero de bloques 598.0\n",
      "numero de bloques 598.0\n",
      "numero de bloques 598.0\n",
      "numero de bloques 598.0\n",
      "numero de bloques 598.0\n",
      "numero de bloques 598.0\n",
      "numero de bloques 598.0\n",
      "numero de bloques 598.0\n",
      "numero de bloques 598.0\n",
      "numero de bloques 598.0\n",
      "numero de bloques 598.0\n",
      "numero de bloques 598.0\n",
      "numero de bloques 598.0\n",
      "numero de bloques 598.0\n",
      "numero de bloques 598.0\n",
      "numero de bloques 598.0\n",
      "numero de bloques 598.0\n",
      "numero de bloques 598.0\n",
      "numero de bloques 598.0\n",
      "numero de bloques 598.0\n",
      "numero de bloques 598.0\n",
      "numero de bloques 598.0\n",
      "numero de bloques 598.0\n",
      "numero de bloques 598.0\n",
      "numero de bloques 598.0\n",
      "numero de bloques 598.0\n",
      "numero de bloques 598.0\n",
      "numero de bloques 598.0\n",
      "numero de bloques 598.0\n",
      "numero de bloques 598.0\n",
      "numero de bloques 598.0\n",
      "numero de bloques 598.0\n",
      "numero de bloques 598.0\n",
      "numero de bloques 598.0\n",
      "numero de bloques 598.0\n",
      "numero de bloques 598.0\n",
      "numero de bloques 598.0\n",
      "numero de bloques 598.0\n",
      "numero de bloques 598.0\n",
      "numero de bloques 598.0\n",
      "numero de bloques 598.0\n",
      "numero de bloques 598.0\n",
      "numero de bloques 598.0\n",
      "numero de bloques 598.0\n",
      "numero de bloques 598.0\n",
      "numero de bloques 598.0\n",
      "numero de bloques 598.0\n",
      "numero de bloques 598.0\n",
      "numero de bloques 598.0\n",
      "numero de bloques 598.0\n",
      "numero de bloques 598.0\n",
      "numero de bloques 598.0\n",
      "numero de bloques 598.0\n",
      "numero de bloques 598.0\n",
      "numero de bloques 598.0\n",
      "numero de bloques 598.0\n",
      "numero de bloques 598.0\n",
      "numero de bloques 598.0\n",
      "numero de bloques 598.0\n",
      "numero de bloques 598.0\n",
      "numero de bloques 598.0\n",
      "numero de bloques 598.0\n",
      "numero de bloques 598.0\n",
      "numero de bloques 598.0\n",
      "numero de bloques 598.0\n",
      "numero de bloques 598.0\n",
      "numero de bloques 598.0\n",
      "numero de bloques 598.0\n",
      "numero de bloques 598.0\n",
      "numero de bloques 598.0\n",
      "numero de bloques 598.0\n",
      "numero de bloques 598.0\n",
      "numero de bloques 598.0\n",
      "numero de bloques 598.0\n",
      "numero de bloques 598.0\n",
      "numero de bloques 598.0\n",
      "numero de bloques 598.0\n",
      "numero de bloques 598.0\n",
      "numero de bloques 598.0\n",
      "numero de bloques 598.0\n",
      "numero de bloques 598.0\n",
      "numero de bloques 598.0\n",
      "numero de bloques 598.0\n",
      "numero de bloques 598.0\n",
      "numero de bloques 598.0\n",
      "numero de bloques 598.0\n",
      "numero de bloques 598.0\n",
      "numero de bloques 598.0\n",
      "numero de bloques 598.0\n",
      "numero de bloques 598.0\n",
      "numero de bloques 598.0\n",
      "numero de bloques 598.0\n",
      "numero de bloques 598.0\n",
      "numero de bloques 598.0\n",
      "numero de bloques 598.0\n",
      "numero de bloques 598.0\n",
      "numero de bloques 598.0\n",
      "numero de bloques 598.0\n",
      "numero de bloques 598.0\n",
      "numero de bloques 598.0\n",
      "numero de bloques 598.0\n",
      "numero de bloques 598.0\n",
      "numero de bloques 598.0\n",
      "numero de bloques 598.0\n",
      "numero de bloques 598.0\n",
      "numero de bloques 598.0\n",
      "numero de bloques 598.0\n",
      "numero de bloques 598.0\n",
      "numero de bloques 598.0\n",
      "numero de bloques 598.0\n",
      "numero de bloques 598.0\n",
      "numero de bloques 598.0\n",
      "numero de bloques 598.0\n",
      "numero de bloques 598.0\n",
      "numero de bloques 598.0\n",
      "numero de bloques 598.0\n",
      "numero de bloques 598.0\n",
      "numero de bloques 598.0\n",
      "numero de bloques 598.0\n",
      "numero de bloques 598.0\n",
      "numero de bloques 598.0\n",
      "numero de bloques 598.0\n",
      "numero de bloques 598.0\n",
      "numero de bloques 598.0\n",
      "numero de bloques 598.0\n"
     ]
    }
   ],
   "source": [
    "#Tarda mucho tiempo en ejecutarse, 15 minutos aprox\n",
    "extraerCaracteristicasImagenes1(\"cat_100_test.csv\", cat100_test, numeroBloque, dimension)\n",
    "extraerCaracteristicasImagenes1(\"dog_100_test.csv\", dog100_test, numeroBloque, dimension)\n",
    "extraerCaracteristicasImagenes1(\"cat_500_test.csv\", cat500_test, numeroBloque, dimension)\n",
    "extraerCaracteristicasImagenes1(\"dog_500_test.csv\", dog500_test, numeroBloque, dimension)"
   ]
  },
  {
   "attachments": {},
   "cell_type": "markdown",
   "metadata": {},
   "source": [
    "Realizamos el mismo paso, pero esta vez aplicando el segundo tipo de extracción de características"
   ]
  },
  {
   "cell_type": "code",
   "execution_count": null,
   "metadata": {},
   "outputs": [
    {
     "name": "stdout",
     "output_type": "stream",
     "text": [
      "numero de bloques 598.0\n",
      "numero de bloques 598.0\n",
      "numero de bloques 598.0\n",
      "numero de bloques 598.0\n",
      "numero de bloques 598.0\n",
      "numero de bloques 598.0\n",
      "numero de bloques 598.0\n",
      "numero de bloques 598.0\n",
      "numero de bloques 598.0\n",
      "numero de bloques 598.0\n",
      "numero de bloques 598.0\n",
      "numero de bloques 598.0\n",
      "numero de bloques 598.0\n",
      "numero de bloques 598.0\n",
      "numero de bloques 598.0\n",
      "numero de bloques 598.0\n",
      "numero de bloques 598.0\n",
      "numero de bloques 598.0\n",
      "numero de bloques 598.0\n",
      "numero de bloques 598.0\n",
      "numero de bloques 598.0\n",
      "numero de bloques 598.0\n",
      "numero de bloques 598.0\n",
      "numero de bloques 598.0\n",
      "numero de bloques 598.0\n",
      "numero de bloques 598.0\n",
      "numero de bloques 598.0\n",
      "numero de bloques 598.0\n",
      "numero de bloques 598.0\n",
      "numero de bloques 598.0\n",
      "numero de bloques 598.0\n",
      "numero de bloques 598.0\n",
      "numero de bloques 598.0\n",
      "numero de bloques 598.0\n",
      "numero de bloques 598.0\n",
      "numero de bloques 598.0\n",
      "numero de bloques 598.0\n",
      "numero de bloques 598.0\n",
      "numero de bloques 598.0\n",
      "numero de bloques 598.0\n",
      "numero de bloques 598.0\n",
      "numero de bloques 598.0\n",
      "numero de bloques 598.0\n",
      "numero de bloques 598.0\n",
      "numero de bloques 598.0\n",
      "numero de bloques 598.0\n",
      "numero de bloques 598.0\n",
      "numero de bloques 598.0\n",
      "numero de bloques 598.0\n",
      "numero de bloques 598.0\n",
      "numero de bloques 598.0\n",
      "numero de bloques 598.0\n",
      "numero de bloques 598.0\n",
      "numero de bloques 598.0\n",
      "numero de bloques 598.0\n",
      "numero de bloques 598.0\n",
      "numero de bloques 598.0\n",
      "numero de bloques 598.0\n",
      "numero de bloques 598.0\n",
      "numero de bloques 598.0\n",
      "numero de bloques 598.0\n",
      "numero de bloques 598.0\n",
      "numero de bloques 598.0\n",
      "numero de bloques 598.0\n",
      "numero de bloques 598.0\n",
      "numero de bloques 598.0\n",
      "numero de bloques 598.0\n",
      "numero de bloques 598.0\n",
      "numero de bloques 598.0\n",
      "numero de bloques 598.0\n",
      "numero de bloques 598.0\n",
      "numero de bloques 598.0\n",
      "numero de bloques 598.0\n",
      "numero de bloques 598.0\n",
      "numero de bloques 598.0\n",
      "numero de bloques 598.0\n",
      "numero de bloques 598.0\n",
      "numero de bloques 598.0\n",
      "numero de bloques 598.0\n",
      "numero de bloques 598.0\n",
      "numero de bloques 598.0\n",
      "numero de bloques 598.0\n",
      "numero de bloques 598.0\n",
      "numero de bloques 598.0\n",
      "numero de bloques 598.0\n",
      "numero de bloques 598.0\n",
      "numero de bloques 598.0\n",
      "numero de bloques 598.0\n",
      "numero de bloques 598.0\n",
      "numero de bloques 598.0\n",
      "numero de bloques 598.0\n",
      "numero de bloques 598.0\n",
      "numero de bloques 598.0\n",
      "numero de bloques 598.0\n",
      "numero de bloques 598.0\n",
      "numero de bloques 598.0\n",
      "numero de bloques 598.0\n",
      "numero de bloques 598.0\n",
      "numero de bloques 598.0\n",
      "numero de bloques 598.0\n",
      "numero de bloques 598.0\n",
      "numero de bloques 598.0\n",
      "numero de bloques 598.0\n",
      "numero de bloques 598.0\n",
      "numero de bloques 598.0\n",
      "numero de bloques 598.0\n",
      "numero de bloques 598.0\n",
      "numero de bloques 598.0\n",
      "numero de bloques 598.0\n",
      "numero de bloques 598.0\n",
      "numero de bloques 598.0\n",
      "numero de bloques 598.0\n",
      "numero de bloques 598.0\n",
      "numero de bloques 598.0\n",
      "numero de bloques 598.0\n",
      "numero de bloques 598.0\n",
      "numero de bloques 598.0\n",
      "numero de bloques 598.0\n",
      "numero de bloques 598.0\n",
      "numero de bloques 598.0\n",
      "numero de bloques 598.0\n",
      "numero de bloques 598.0\n",
      "numero de bloques 598.0\n",
      "numero de bloques 598.0\n",
      "numero de bloques 598.0\n",
      "numero de bloques 598.0\n",
      "numero de bloques 598.0\n",
      "numero de bloques 598.0\n",
      "numero de bloques 598.0\n",
      "numero de bloques 598.0\n",
      "numero de bloques 598.0\n",
      "numero de bloques 598.0\n",
      "numero de bloques 598.0\n",
      "numero de bloques 598.0\n",
      "numero de bloques 598.0\n",
      "numero de bloques 598.0\n",
      "numero de bloques 598.0\n",
      "numero de bloques 598.0\n",
      "numero de bloques 598.0\n",
      "numero de bloques 598.0\n",
      "numero de bloques 598.0\n",
      "numero de bloques 598.0\n",
      "numero de bloques 598.0\n",
      "numero de bloques 598.0\n",
      "numero de bloques 598.0\n",
      "numero de bloques 598.0\n",
      "numero de bloques 598.0\n",
      "numero de bloques 598.0\n",
      "numero de bloques 598.0\n",
      "numero de bloques 598.0\n",
      "numero de bloques 598.0\n",
      "numero de bloques 598.0\n",
      "numero de bloques 598.0\n",
      "numero de bloques 598.0\n",
      "numero de bloques 598.0\n",
      "numero de bloques 598.0\n",
      "numero de bloques 598.0\n",
      "numero de bloques 598.0\n",
      "numero de bloques 598.0\n",
      "numero de bloques 598.0\n",
      "numero de bloques 598.0\n",
      "numero de bloques 598.0\n",
      "numero de bloques 598.0\n",
      "numero de bloques 598.0\n",
      "numero de bloques 598.0\n",
      "numero de bloques 598.0\n",
      "numero de bloques 598.0\n",
      "numero de bloques 598.0\n",
      "numero de bloques 598.0\n",
      "numero de bloques 598.0\n",
      "numero de bloques 598.0\n",
      "numero de bloques 598.0\n",
      "numero de bloques 598.0\n",
      "numero de bloques 598.0\n",
      "numero de bloques 598.0\n",
      "numero de bloques 598.0\n",
      "numero de bloques 598.0\n",
      "numero de bloques 598.0\n",
      "numero de bloques 598.0\n",
      "numero de bloques 598.0\n",
      "numero de bloques 598.0\n",
      "numero de bloques 598.0\n",
      "numero de bloques 598.0\n",
      "numero de bloques 598.0\n",
      "numero de bloques 598.0\n",
      "numero de bloques 598.0\n",
      "numero de bloques 598.0\n",
      "numero de bloques 598.0\n",
      "numero de bloques 598.0\n",
      "numero de bloques 598.0\n",
      "numero de bloques 598.0\n",
      "numero de bloques 598.0\n",
      "numero de bloques 598.0\n",
      "numero de bloques 598.0\n",
      "numero de bloques 598.0\n",
      "numero de bloques 598.0\n",
      "numero de bloques 598.0\n",
      "numero de bloques 598.0\n",
      "numero de bloques 598.0\n",
      "numero de bloques 598.0\n",
      "numero de bloques 598.0\n",
      "numero de bloques 598.0\n",
      "numero de bloques 598.0\n",
      "numero de bloques 598.0\n",
      "numero de bloques 598.0\n",
      "numero de bloques 598.0\n",
      "numero de bloques 598.0\n",
      "numero de bloques 598.0\n",
      "numero de bloques 598.0\n",
      "numero de bloques 598.0\n",
      "numero de bloques 598.0\n",
      "numero de bloques 598.0\n",
      "numero de bloques 598.0\n",
      "numero de bloques 598.0\n",
      "numero de bloques 598.0\n",
      "numero de bloques 598.0\n",
      "numero de bloques 598.0\n",
      "numero de bloques 598.0\n",
      "numero de bloques 598.0\n",
      "numero de bloques 598.0\n",
      "numero de bloques 598.0\n",
      "numero de bloques 598.0\n",
      "numero de bloques 598.0\n",
      "numero de bloques 598.0\n",
      "numero de bloques 598.0\n",
      "numero de bloques 598.0\n",
      "numero de bloques 598.0\n",
      "numero de bloques 598.0\n",
      "numero de bloques 598.0\n",
      "numero de bloques 598.0\n",
      "numero de bloques 598.0\n",
      "numero de bloques 598.0\n",
      "numero de bloques 598.0\n",
      "numero de bloques 598.0\n",
      "numero de bloques 598.0\n",
      "numero de bloques 598.0\n",
      "numero de bloques 598.0\n",
      "numero de bloques 598.0\n",
      "numero de bloques 598.0\n",
      "numero de bloques 598.0\n",
      "numero de bloques 598.0\n",
      "numero de bloques 598.0\n",
      "numero de bloques 598.0\n",
      "numero de bloques 598.0\n",
      "numero de bloques 598.0\n",
      "numero de bloques 598.0\n",
      "numero de bloques 598.0\n",
      "numero de bloques 598.0\n",
      "numero de bloques 598.0\n",
      "numero de bloques 598.0\n",
      "numero de bloques 598.0\n",
      "numero de bloques 598.0\n",
      "numero de bloques 598.0\n",
      "numero de bloques 598.0\n",
      "numero de bloques 598.0\n",
      "numero de bloques 598.0\n",
      "numero de bloques 598.0\n",
      "numero de bloques 598.0\n",
      "numero de bloques 598.0\n",
      "numero de bloques 598.0\n",
      "numero de bloques 598.0\n",
      "numero de bloques 598.0\n",
      "numero de bloques 598.0\n",
      "numero de bloques 598.0\n",
      "numero de bloques 598.0\n",
      "numero de bloques 598.0\n",
      "numero de bloques 598.0\n",
      "numero de bloques 598.0\n",
      "numero de bloques 598.0\n",
      "numero de bloques 598.0\n",
      "numero de bloques 598.0\n",
      "numero de bloques 598.0\n",
      "numero de bloques 598.0\n",
      "numero de bloques 598.0\n",
      "numero de bloques 598.0\n",
      "numero de bloques 598.0\n",
      "numero de bloques 598.0\n",
      "numero de bloques 598.0\n",
      "numero de bloques 598.0\n",
      "numero de bloques 598.0\n",
      "numero de bloques 598.0\n",
      "numero de bloques 598.0\n",
      "numero de bloques 598.0\n",
      "numero de bloques 598.0\n",
      "numero de bloques 598.0\n",
      "numero de bloques 598.0\n",
      "numero de bloques 598.0\n",
      "numero de bloques 598.0\n",
      "numero de bloques 598.0\n",
      "numero de bloques 598.0\n",
      "numero de bloques 598.0\n",
      "numero de bloques 598.0\n",
      "numero de bloques 598.0\n",
      "numero de bloques 598.0\n",
      "numero de bloques 598.0\n",
      "numero de bloques 598.0\n",
      "numero de bloques 598.0\n",
      "numero de bloques 598.0\n",
      "numero de bloques 598.0\n",
      "numero de bloques 598.0\n",
      "numero de bloques 598.0\n",
      "numero de bloques 598.0\n",
      "numero de bloques 598.0\n",
      "numero de bloques 598.0\n",
      "numero de bloques 598.0\n",
      "numero de bloques 598.0\n",
      "numero de bloques 598.0\n",
      "numero de bloques 598.0\n",
      "numero de bloques 598.0\n",
      "numero de bloques 598.0\n",
      "numero de bloques 598.0\n",
      "numero de bloques 598.0\n",
      "numero de bloques 598.0\n",
      "numero de bloques 598.0\n",
      "numero de bloques 598.0\n",
      "numero de bloques 598.0\n",
      "numero de bloques 598.0\n",
      "numero de bloques 598.0\n",
      "numero de bloques 598.0\n",
      "numero de bloques 598.0\n",
      "numero de bloques 598.0\n",
      "numero de bloques 598.0\n",
      "numero de bloques 598.0\n",
      "numero de bloques 598.0\n",
      "numero de bloques 598.0\n",
      "numero de bloques 598.0\n",
      "numero de bloques 598.0\n",
      "numero de bloques 598.0\n",
      "numero de bloques 598.0\n",
      "numero de bloques 598.0\n",
      "numero de bloques 598.0\n",
      "numero de bloques 598.0\n",
      "numero de bloques 598.0\n",
      "numero de bloques 598.0\n",
      "numero de bloques 598.0\n",
      "numero de bloques 598.0\n",
      "numero de bloques 598.0\n",
      "numero de bloques 598.0\n",
      "numero de bloques 598.0\n",
      "numero de bloques 598.0\n",
      "numero de bloques 598.0\n",
      "numero de bloques 598.0\n",
      "numero de bloques 598.0\n",
      "numero de bloques 598.0\n",
      "numero de bloques 598.0\n",
      "numero de bloques 598.0\n",
      "numero de bloques 598.0\n",
      "numero de bloques 598.0\n",
      "numero de bloques 598.0\n",
      "numero de bloques 598.0\n",
      "numero de bloques 598.0\n",
      "numero de bloques 598.0\n",
      "numero de bloques 598.0\n",
      "numero de bloques 598.0\n",
      "numero de bloques 598.0\n",
      "numero de bloques 598.0\n",
      "numero de bloques 598.0\n",
      "numero de bloques 598.0\n",
      "numero de bloques 598.0\n",
      "numero de bloques 598.0\n",
      "numero de bloques 598.0\n",
      "numero de bloques 598.0\n",
      "numero de bloques 598.0\n",
      "numero de bloques 598.0\n",
      "numero de bloques 598.0\n",
      "numero de bloques 598.0\n",
      "numero de bloques 598.0\n",
      "numero de bloques 598.0\n",
      "numero de bloques 598.0\n",
      "numero de bloques 598.0\n",
      "numero de bloques 598.0\n",
      "numero de bloques 598.0\n",
      "numero de bloques 598.0\n",
      "numero de bloques 598.0\n",
      "numero de bloques 598.0\n",
      "numero de bloques 598.0\n",
      "numero de bloques 598.0\n",
      "numero de bloques 598.0\n",
      "numero de bloques 598.0\n",
      "numero de bloques 598.0\n",
      "numero de bloques 598.0\n",
      "numero de bloques 598.0\n",
      "numero de bloques 598.0\n",
      "numero de bloques 598.0\n",
      "numero de bloques 598.0\n",
      "numero de bloques 598.0\n",
      "numero de bloques 598.0\n",
      "numero de bloques 598.0\n",
      "numero de bloques 598.0\n",
      "numero de bloques 598.0\n",
      "numero de bloques 598.0\n",
      "numero de bloques 598.0\n",
      "numero de bloques 598.0\n",
      "numero de bloques 598.0\n",
      "numero de bloques 598.0\n",
      "numero de bloques 598.0\n",
      "numero de bloques 598.0\n",
      "numero de bloques 598.0\n",
      "numero de bloques 598.0\n",
      "numero de bloques 598.0\n",
      "numero de bloques 598.0\n",
      "numero de bloques 598.0\n",
      "numero de bloques 598.0\n",
      "numero de bloques 598.0\n",
      "numero de bloques 598.0\n",
      "numero de bloques 598.0\n",
      "numero de bloques 598.0\n",
      "numero de bloques 598.0\n",
      "numero de bloques 598.0\n",
      "numero de bloques 598.0\n",
      "numero de bloques 598.0\n",
      "numero de bloques 598.0\n",
      "numero de bloques 598.0\n",
      "numero de bloques 598.0\n",
      "numero de bloques 598.0\n",
      "numero de bloques 598.0\n",
      "numero de bloques 598.0\n",
      "numero de bloques 598.0\n",
      "numero de bloques 598.0\n",
      "numero de bloques 598.0\n",
      "numero de bloques 598.0\n",
      "numero de bloques 598.0\n",
      "numero de bloques 598.0\n",
      "numero de bloques 598.0\n",
      "numero de bloques 598.0\n",
      "numero de bloques 598.0\n",
      "numero de bloques 598.0\n",
      "numero de bloques 598.0\n",
      "numero de bloques 598.0\n",
      "numero de bloques 598.0\n",
      "numero de bloques 598.0\n",
      "numero de bloques 598.0\n",
      "numero de bloques 598.0\n",
      "numero de bloques 598.0\n",
      "numero de bloques 598.0\n",
      "numero de bloques 598.0\n",
      "numero de bloques 598.0\n",
      "numero de bloques 598.0\n",
      "numero de bloques 598.0\n",
      "numero de bloques 598.0\n",
      "numero de bloques 598.0\n",
      "numero de bloques 598.0\n",
      "numero de bloques 598.0\n",
      "numero de bloques 598.0\n",
      "numero de bloques 598.0\n",
      "numero de bloques 598.0\n",
      "numero de bloques 598.0\n",
      "numero de bloques 598.0\n",
      "numero de bloques 598.0\n",
      "numero de bloques 598.0\n",
      "numero de bloques 598.0\n",
      "numero de bloques 598.0\n",
      "numero de bloques 598.0\n",
      "numero de bloques 598.0\n",
      "numero de bloques 598.0\n",
      "numero de bloques 598.0\n",
      "numero de bloques 598.0\n",
      "numero de bloques 598.0\n",
      "numero de bloques 598.0\n",
      "numero de bloques 598.0\n",
      "numero de bloques 598.0\n",
      "numero de bloques 598.0\n",
      "numero de bloques 598.0\n",
      "numero de bloques 598.0\n",
      "numero de bloques 598.0\n",
      "numero de bloques 598.0\n",
      "numero de bloques 598.0\n",
      "numero de bloques 598.0\n",
      "numero de bloques 598.0\n",
      "numero de bloques 598.0\n",
      "numero de bloques 598.0\n",
      "numero de bloques 598.0\n",
      "numero de bloques 598.0\n",
      "numero de bloques 598.0\n",
      "numero de bloques 598.0\n",
      "numero de bloques 598.0\n",
      "numero de bloques 598.0\n",
      "numero de bloques 598.0\n",
      "numero de bloques 598.0\n",
      "numero de bloques 598.0\n",
      "numero de bloques 598.0\n",
      "numero de bloques 598.0\n",
      "numero de bloques 598.0\n",
      "numero de bloques 598.0\n",
      "numero de bloques 598.0\n",
      "numero de bloques 598.0\n",
      "numero de bloques 598.0\n",
      "numero de bloques 598.0\n",
      "numero de bloques 598.0\n",
      "numero de bloques 598.0\n",
      "numero de bloques 598.0\n",
      "numero de bloques 598.0\n",
      "numero de bloques 598.0\n",
      "numero de bloques 598.0\n",
      "numero de bloques 598.0\n",
      "numero de bloques 598.0\n",
      "numero de bloques 598.0\n",
      "numero de bloques 598.0\n",
      "numero de bloques 598.0\n",
      "numero de bloques 598.0\n",
      "numero de bloques 598.0\n",
      "numero de bloques 598.0\n",
      "numero de bloques 598.0\n",
      "numero de bloques 598.0\n",
      "numero de bloques 598.0\n",
      "numero de bloques 598.0\n",
      "numero de bloques 598.0\n",
      "numero de bloques 598.0\n",
      "numero de bloques 598.0\n",
      "numero de bloques 598.0\n",
      "numero de bloques 598.0\n",
      "numero de bloques 598.0\n",
      "numero de bloques 598.0\n",
      "numero de bloques 598.0\n",
      "numero de bloques 598.0\n",
      "numero de bloques 598.0\n",
      "numero de bloques 598.0\n",
      "numero de bloques 598.0\n",
      "numero de bloques 598.0\n",
      "numero de bloques 598.0\n",
      "numero de bloques 598.0\n",
      "numero de bloques 598.0\n",
      "numero de bloques 598.0\n",
      "numero de bloques 598.0\n",
      "numero de bloques 598.0\n",
      "numero de bloques 598.0\n",
      "numero de bloques 598.0\n",
      "numero de bloques 598.0\n",
      "numero de bloques 598.0\n",
      "numero de bloques 598.0\n",
      "numero de bloques 598.0\n",
      "numero de bloques 598.0\n",
      "numero de bloques 598.0\n",
      "numero de bloques 598.0\n",
      "numero de bloques 598.0\n",
      "numero de bloques 598.0\n",
      "numero de bloques 598.0\n",
      "numero de bloques 598.0\n",
      "numero de bloques 598.0\n",
      "numero de bloques 598.0\n",
      "numero de bloques 598.0\n",
      "numero de bloques 598.0\n",
      "numero de bloques 598.0\n",
      "numero de bloques 598.0\n",
      "numero de bloques 598.0\n",
      "numero de bloques 598.0\n",
      "numero de bloques 598.0\n",
      "numero de bloques 598.0\n",
      "numero de bloques 598.0\n",
      "numero de bloques 598.0\n",
      "numero de bloques 598.0\n",
      "numero de bloques 598.0\n",
      "numero de bloques 598.0\n",
      "numero de bloques 598.0\n",
      "numero de bloques 598.0\n",
      "numero de bloques 598.0\n",
      "numero de bloques 598.0\n",
      "numero de bloques 598.0\n",
      "numero de bloques 598.0\n",
      "numero de bloques 598.0\n",
      "numero de bloques 598.0\n",
      "numero de bloques 598.0\n",
      "numero de bloques 598.0\n",
      "numero de bloques 598.0\n",
      "numero de bloques 598.0\n",
      "numero de bloques 598.0\n",
      "numero de bloques 598.0\n",
      "numero de bloques 598.0\n",
      "numero de bloques 598.0\n",
      "numero de bloques 598.0\n",
      "numero de bloques 598.0\n",
      "numero de bloques 598.0\n",
      "numero de bloques 598.0\n",
      "numero de bloques 598.0\n",
      "numero de bloques 598.0\n",
      "numero de bloques 598.0\n",
      "numero de bloques 598.0\n",
      "numero de bloques 598.0\n",
      "numero de bloques 598.0\n",
      "numero de bloques 598.0\n",
      "numero de bloques 598.0\n",
      "numero de bloques 598.0\n",
      "numero de bloques 598.0\n",
      "numero de bloques 598.0\n",
      "numero de bloques 598.0\n",
      "numero de bloques 598.0\n",
      "numero de bloques 598.0\n",
      "numero de bloques 598.0\n",
      "numero de bloques 598.0\n",
      "numero de bloques 598.0\n",
      "numero de bloques 598.0\n",
      "numero de bloques 598.0\n",
      "numero de bloques 598.0\n",
      "numero de bloques 598.0\n",
      "numero de bloques 598.0\n",
      "numero de bloques 598.0\n",
      "numero de bloques 598.0\n",
      "numero de bloques 598.0\n",
      "numero de bloques 598.0\n",
      "numero de bloques 598.0\n",
      "numero de bloques 598.0\n",
      "numero de bloques 598.0\n",
      "numero de bloques 598.0\n",
      "numero de bloques 598.0\n",
      "numero de bloques 598.0\n",
      "numero de bloques 598.0\n",
      "numero de bloques 598.0\n",
      "numero de bloques 598.0\n",
      "numero de bloques 598.0\n",
      "numero de bloques 598.0\n",
      "numero de bloques 598.0\n",
      "numero de bloques 598.0\n",
      "numero de bloques 598.0\n",
      "numero de bloques 598.0\n",
      "numero de bloques 598.0\n",
      "numero de bloques 598.0\n",
      "numero de bloques 598.0\n",
      "numero de bloques 598.0\n",
      "numero de bloques 598.0\n",
      "numero de bloques 598.0\n",
      "numero de bloques 598.0\n",
      "numero de bloques 598.0\n",
      "numero de bloques 598.0\n",
      "numero de bloques 598.0\n",
      "numero de bloques 598.0\n",
      "numero de bloques 598.0\n",
      "numero de bloques 598.0\n",
      "numero de bloques 598.0\n",
      "numero de bloques 598.0\n",
      "numero de bloques 598.0\n",
      "numero de bloques 598.0\n",
      "numero de bloques 598.0\n",
      "numero de bloques 598.0\n",
      "numero de bloques 598.0\n",
      "numero de bloques 598.0\n",
      "numero de bloques 598.0\n",
      "numero de bloques 598.0\n",
      "numero de bloques 598.0\n",
      "numero de bloques 598.0\n",
      "numero de bloques 598.0\n",
      "numero de bloques 598.0\n",
      "numero de bloques 598.0\n",
      "numero de bloques 598.0\n",
      "numero de bloques 598.0\n",
      "numero de bloques 598.0\n",
      "numero de bloques 598.0\n",
      "numero de bloques 598.0\n",
      "numero de bloques 598.0\n",
      "numero de bloques 598.0\n",
      "numero de bloques 598.0\n",
      "numero de bloques 598.0\n",
      "numero de bloques 598.0\n",
      "numero de bloques 598.0\n",
      "numero de bloques 598.0\n",
      "numero de bloques 598.0\n",
      "numero de bloques 598.0\n",
      "numero de bloques 598.0\n",
      "numero de bloques 598.0\n",
      "numero de bloques 598.0\n",
      "numero de bloques 598.0\n",
      "numero de bloques 598.0\n",
      "numero de bloques 598.0\n",
      "numero de bloques 598.0\n",
      "numero de bloques 598.0\n",
      "numero de bloques 598.0\n",
      "numero de bloques 598.0\n",
      "numero de bloques 598.0\n",
      "numero de bloques 598.0\n",
      "numero de bloques 598.0\n",
      "numero de bloques 598.0\n",
      "numero de bloques 598.0\n",
      "numero de bloques 598.0\n",
      "numero de bloques 598.0\n",
      "numero de bloques 598.0\n",
      "numero de bloques 598.0\n",
      "numero de bloques 598.0\n",
      "numero de bloques 598.0\n",
      "numero de bloques 598.0\n",
      "numero de bloques 598.0\n",
      "numero de bloques 598.0\n",
      "numero de bloques 598.0\n",
      "numero de bloques 598.0\n",
      "numero de bloques 598.0\n",
      "numero de bloques 598.0\n",
      "numero de bloques 598.0\n",
      "numero de bloques 598.0\n",
      "numero de bloques 598.0\n",
      "numero de bloques 598.0\n",
      "numero de bloques 598.0\n",
      "numero de bloques 598.0\n",
      "numero de bloques 598.0\n",
      "numero de bloques 598.0\n",
      "numero de bloques 598.0\n",
      "numero de bloques 598.0\n",
      "numero de bloques 598.0\n",
      "numero de bloques 598.0\n",
      "numero de bloques 598.0\n",
      "numero de bloques 598.0\n",
      "numero de bloques 598.0\n",
      "numero de bloques 598.0\n",
      "numero de bloques 598.0\n",
      "numero de bloques 598.0\n",
      "numero de bloques 598.0\n",
      "numero de bloques 598.0\n",
      "numero de bloques 598.0\n",
      "numero de bloques 598.0\n",
      "numero de bloques 598.0\n",
      "numero de bloques 598.0\n",
      "numero de bloques 598.0\n",
      "numero de bloques 598.0\n",
      "numero de bloques 598.0\n",
      "numero de bloques 598.0\n",
      "numero de bloques 598.0\n",
      "numero de bloques 598.0\n",
      "numero de bloques 598.0\n",
      "numero de bloques 598.0\n",
      "numero de bloques 598.0\n",
      "numero de bloques 598.0\n",
      "numero de bloques 598.0\n",
      "numero de bloques 598.0\n",
      "numero de bloques 598.0\n",
      "numero de bloques 598.0\n",
      "numero de bloques 598.0\n",
      "numero de bloques 598.0\n",
      "numero de bloques 598.0\n",
      "numero de bloques 598.0\n",
      "numero de bloques 598.0\n",
      "numero de bloques 598.0\n",
      "numero de bloques 598.0\n",
      "numero de bloques 598.0\n",
      "numero de bloques 598.0\n",
      "numero de bloques 598.0\n",
      "numero de bloques 598.0\n",
      "numero de bloques 598.0\n",
      "numero de bloques 598.0\n",
      "numero de bloques 598.0\n",
      "numero de bloques 598.0\n",
      "numero de bloques 598.0\n",
      "numero de bloques 598.0\n",
      "numero de bloques 598.0\n",
      "numero de bloques 598.0\n",
      "numero de bloques 598.0\n",
      "numero de bloques 598.0\n",
      "numero de bloques 598.0\n",
      "numero de bloques 598.0\n",
      "numero de bloques 598.0\n",
      "numero de bloques 598.0\n",
      "numero de bloques 598.0\n",
      "numero de bloques 598.0\n",
      "numero de bloques 598.0\n",
      "numero de bloques 598.0\n",
      "numero de bloques 598.0\n",
      "numero de bloques 598.0\n",
      "numero de bloques 598.0\n",
      "numero de bloques 598.0\n",
      "numero de bloques 598.0\n",
      "numero de bloques 598.0\n",
      "numero de bloques 598.0\n",
      "numero de bloques 598.0\n",
      "numero de bloques 598.0\n",
      "numero de bloques 598.0\n",
      "numero de bloques 598.0\n",
      "numero de bloques 598.0\n",
      "numero de bloques 598.0\n",
      "numero de bloques 598.0\n",
      "numero de bloques 598.0\n",
      "numero de bloques 598.0\n",
      "numero de bloques 598.0\n",
      "numero de bloques 598.0\n",
      "numero de bloques 598.0\n",
      "numero de bloques 598.0\n",
      "numero de bloques 598.0\n",
      "numero de bloques 598.0\n",
      "numero de bloques 598.0\n",
      "numero de bloques 598.0\n",
      "numero de bloques 598.0\n",
      "numero de bloques 598.0\n",
      "numero de bloques 598.0\n",
      "numero de bloques 598.0\n",
      "numero de bloques 598.0\n",
      "numero de bloques 598.0\n",
      "numero de bloques 598.0\n",
      "numero de bloques 598.0\n",
      "numero de bloques 598.0\n",
      "numero de bloques 598.0\n",
      "numero de bloques 598.0\n",
      "numero de bloques 598.0\n",
      "numero de bloques 598.0\n",
      "numero de bloques 598.0\n",
      "numero de bloques 598.0\n",
      "numero de bloques 598.0\n",
      "numero de bloques 598.0\n",
      "numero de bloques 598.0\n",
      "numero de bloques 598.0\n",
      "numero de bloques 598.0\n",
      "numero de bloques 598.0\n",
      "numero de bloques 598.0\n",
      "numero de bloques 598.0\n",
      "numero de bloques 598.0\n",
      "numero de bloques 598.0\n",
      "numero de bloques 598.0\n",
      "numero de bloques 598.0\n",
      "numero de bloques 598.0\n",
      "numero de bloques 598.0\n",
      "numero de bloques 598.0\n",
      "numero de bloques 598.0\n",
      "numero de bloques 598.0\n",
      "numero de bloques 598.0\n",
      "numero de bloques 598.0\n",
      "numero de bloques 598.0\n",
      "numero de bloques 598.0\n",
      "numero de bloques 598.0\n",
      "numero de bloques 598.0\n",
      "numero de bloques 598.0\n",
      "numero de bloques 598.0\n",
      "numero de bloques 598.0\n",
      "numero de bloques 598.0\n",
      "numero de bloques 598.0\n",
      "numero de bloques 598.0\n",
      "numero de bloques 598.0\n",
      "numero de bloques 598.0\n",
      "numero de bloques 598.0\n",
      "numero de bloques 598.0\n",
      "numero de bloques 598.0\n",
      "numero de bloques 598.0\n",
      "numero de bloques 598.0\n",
      "numero de bloques 598.0\n",
      "numero de bloques 598.0\n",
      "numero de bloques 598.0\n",
      "numero de bloques 598.0\n",
      "numero de bloques 598.0\n",
      "numero de bloques 598.0\n",
      "numero de bloques 598.0\n",
      "numero de bloques 598.0\n",
      "numero de bloques 598.0\n",
      "numero de bloques 598.0\n",
      "numero de bloques 598.0\n",
      "numero de bloques 598.0\n",
      "numero de bloques 598.0\n",
      "numero de bloques 598.0\n",
      "numero de bloques 598.0\n",
      "numero de bloques 598.0\n",
      "numero de bloques 598.0\n",
      "numero de bloques 598.0\n",
      "numero de bloques 598.0\n",
      "numero de bloques 598.0\n",
      "numero de bloques 598.0\n",
      "numero de bloques 598.0\n",
      "numero de bloques 598.0\n",
      "numero de bloques 598.0\n",
      "numero de bloques 598.0\n",
      "numero de bloques 598.0\n",
      "numero de bloques 598.0\n",
      "numero de bloques 598.0\n",
      "numero de bloques 598.0\n",
      "numero de bloques 598.0\n",
      "numero de bloques 598.0\n",
      "numero de bloques 598.0\n",
      "numero de bloques 598.0\n",
      "numero de bloques 598.0\n",
      "numero de bloques 598.0\n",
      "numero de bloques 598.0\n",
      "numero de bloques 598.0\n",
      "numero de bloques 598.0\n",
      "numero de bloques 598.0\n",
      "numero de bloques 598.0\n",
      "numero de bloques 598.0\n",
      "numero de bloques 598.0\n",
      "numero de bloques 598.0\n",
      "numero de bloques 598.0\n",
      "numero de bloques 598.0\n",
      "numero de bloques 598.0\n",
      "numero de bloques 598.0\n",
      "numero de bloques 598.0\n",
      "numero de bloques 598.0\n",
      "numero de bloques 598.0\n",
      "numero de bloques 598.0\n",
      "numero de bloques 598.0\n",
      "numero de bloques 598.0\n",
      "numero de bloques 598.0\n",
      "numero de bloques 598.0\n",
      "numero de bloques 598.0\n",
      "numero de bloques 598.0\n",
      "numero de bloques 598.0\n",
      "numero de bloques 598.0\n",
      "numero de bloques 598.0\n",
      "numero de bloques 598.0\n",
      "numero de bloques 598.0\n",
      "numero de bloques 598.0\n",
      "numero de bloques 598.0\n",
      "numero de bloques 598.0\n",
      "numero de bloques 598.0\n",
      "numero de bloques 598.0\n",
      "numero de bloques 598.0\n",
      "numero de bloques 598.0\n",
      "numero de bloques 598.0\n",
      "numero de bloques 598.0\n",
      "numero de bloques 598.0\n",
      "numero de bloques 598.0\n",
      "numero de bloques 598.0\n",
      "numero de bloques 598.0\n",
      "numero de bloques 598.0\n",
      "numero de bloques 598.0\n",
      "numero de bloques 598.0\n",
      "numero de bloques 598.0\n",
      "numero de bloques 598.0\n",
      "numero de bloques 598.0\n",
      "numero de bloques 598.0\n",
      "numero de bloques 598.0\n",
      "numero de bloques 598.0\n",
      "numero de bloques 598.0\n",
      "numero de bloques 598.0\n",
      "numero de bloques 598.0\n",
      "numero de bloques 598.0\n",
      "numero de bloques 598.0\n",
      "numero de bloques 598.0\n",
      "numero de bloques 598.0\n",
      "numero de bloques 598.0\n",
      "numero de bloques 598.0\n",
      "numero de bloques 598.0\n",
      "numero de bloques 598.0\n",
      "numero de bloques 598.0\n",
      "numero de bloques 598.0\n",
      "numero de bloques 598.0\n",
      "numero de bloques 598.0\n",
      "numero de bloques 598.0\n",
      "numero de bloques 598.0\n",
      "numero de bloques 598.0\n",
      "numero de bloques 598.0\n",
      "numero de bloques 598.0\n",
      "numero de bloques 598.0\n",
      "numero de bloques 598.0\n",
      "numero de bloques 598.0\n",
      "numero de bloques 598.0\n",
      "numero de bloques 598.0\n",
      "numero de bloques 598.0\n",
      "numero de bloques 598.0\n",
      "numero de bloques 598.0\n",
      "numero de bloques 598.0\n",
      "numero de bloques 598.0\n",
      "numero de bloques 598.0\n",
      "numero de bloques 598.0\n",
      "numero de bloques 598.0\n",
      "numero de bloques 598.0\n",
      "numero de bloques 598.0\n",
      "numero de bloques 598.0\n",
      "numero de bloques 598.0\n",
      "numero de bloques 598.0\n",
      "numero de bloques 598.0\n",
      "numero de bloques 598.0\n",
      "numero de bloques 598.0\n",
      "numero de bloques 598.0\n",
      "numero de bloques 598.0\n",
      "numero de bloques 598.0\n",
      "numero de bloques 598.0\n",
      "numero de bloques 598.0\n",
      "numero de bloques 598.0\n",
      "numero de bloques 598.0\n",
      "numero de bloques 598.0\n",
      "numero de bloques 598.0\n",
      "numero de bloques 598.0\n",
      "numero de bloques 598.0\n",
      "numero de bloques 598.0\n",
      "numero de bloques 598.0\n",
      "numero de bloques 598.0\n",
      "numero de bloques 598.0\n",
      "numero de bloques 598.0\n",
      "numero de bloques 598.0\n",
      "numero de bloques 598.0\n",
      "numero de bloques 598.0\n",
      "numero de bloques 598.0\n",
      "numero de bloques 598.0\n",
      "numero de bloques 598.0\n",
      "numero de bloques 598.0\n",
      "numero de bloques 598.0\n",
      "numero de bloques 598.0\n",
      "numero de bloques 598.0\n",
      "numero de bloques 598.0\n",
      "numero de bloques 598.0\n",
      "numero de bloques 598.0\n",
      "numero de bloques 598.0\n",
      "numero de bloques 598.0\n",
      "numero de bloques 598.0\n",
      "numero de bloques 598.0\n",
      "numero de bloques 598.0\n",
      "numero de bloques 598.0\n",
      "numero de bloques 598.0\n",
      "numero de bloques 598.0\n",
      "numero de bloques 598.0\n",
      "numero de bloques 598.0\n",
      "numero de bloques 598.0\n",
      "numero de bloques 598.0\n",
      "numero de bloques 598.0\n",
      "numero de bloques 598.0\n",
      "numero de bloques 598.0\n",
      "numero de bloques 598.0\n",
      "numero de bloques 598.0\n",
      "numero de bloques 598.0\n",
      "numero de bloques 598.0\n",
      "numero de bloques 598.0\n",
      "numero de bloques 598.0\n",
      "numero de bloques 598.0\n",
      "numero de bloques 598.0\n",
      "numero de bloques 598.0\n",
      "numero de bloques 598.0\n",
      "numero de bloques 598.0\n",
      "numero de bloques 598.0\n",
      "numero de bloques 598.0\n",
      "numero de bloques 598.0\n",
      "numero de bloques 598.0\n",
      "numero de bloques 598.0\n",
      "numero de bloques 598.0\n",
      "numero de bloques 598.0\n",
      "numero de bloques 598.0\n",
      "numero de bloques 598.0\n",
      "numero de bloques 598.0\n",
      "numero de bloques 598.0\n",
      "numero de bloques 598.0\n",
      "numero de bloques 598.0\n",
      "numero de bloques 598.0\n",
      "numero de bloques 598.0\n",
      "numero de bloques 598.0\n",
      "numero de bloques 598.0\n",
      "numero de bloques 598.0\n",
      "numero de bloques 598.0\n",
      "numero de bloques 598.0\n",
      "numero de bloques 598.0\n",
      "numero de bloques 598.0\n",
      "numero de bloques 598.0\n",
      "numero de bloques 598.0\n",
      "numero de bloques 598.0\n",
      "numero de bloques 598.0\n",
      "numero de bloques 598.0\n",
      "numero de bloques 598.0\n",
      "numero de bloques 598.0\n",
      "numero de bloques 598.0\n",
      "numero de bloques 598.0\n",
      "numero de bloques 598.0\n",
      "numero de bloques 598.0\n",
      "numero de bloques 598.0\n",
      "numero de bloques 598.0\n",
      "numero de bloques 598.0\n",
      "numero de bloques 598.0\n",
      "numero de bloques 598.0\n",
      "numero de bloques 598.0\n",
      "numero de bloques 598.0\n",
      "numero de bloques 598.0\n",
      "numero de bloques 598.0\n",
      "numero de bloques 598.0\n",
      "numero de bloques 598.0\n",
      "numero de bloques 598.0\n",
      "numero de bloques 598.0\n",
      "numero de bloques 598.0\n",
      "numero de bloques 598.0\n",
      "numero de bloques 598.0\n",
      "numero de bloques 598.0\n",
      "numero de bloques 598.0\n",
      "numero de bloques 598.0\n",
      "numero de bloques 598.0\n",
      "numero de bloques 598.0\n",
      "numero de bloques 598.0\n",
      "numero de bloques 598.0\n",
      "numero de bloques 598.0\n",
      "numero de bloques 598.0\n",
      "numero de bloques 598.0\n",
      "numero de bloques 598.0\n",
      "numero de bloques 598.0\n",
      "numero de bloques 598.0\n",
      "numero de bloques 598.0\n",
      "numero de bloques 598.0\n",
      "numero de bloques 598.0\n",
      "numero de bloques 598.0\n",
      "numero de bloques 598.0\n",
      "numero de bloques 598.0\n",
      "numero de bloques 598.0\n",
      "numero de bloques 598.0\n",
      "numero de bloques 598.0\n",
      "numero de bloques 598.0\n",
      "numero de bloques 598.0\n",
      "numero de bloques 598.0\n",
      "numero de bloques 598.0\n",
      "numero de bloques 598.0\n",
      "numero de bloques 598.0\n",
      "numero de bloques 598.0\n",
      "numero de bloques 598.0\n",
      "numero de bloques 598.0\n",
      "numero de bloques 598.0\n",
      "numero de bloques 598.0\n",
      "numero de bloques 598.0\n",
      "numero de bloques 598.0\n",
      "numero de bloques 598.0\n",
      "numero de bloques 598.0\n",
      "numero de bloques 598.0\n",
      "numero de bloques 598.0\n",
      "numero de bloques 598.0\n",
      "numero de bloques 598.0\n",
      "numero de bloques 598.0\n",
      "numero de bloques 598.0\n",
      "numero de bloques 598.0\n",
      "numero de bloques 598.0\n",
      "numero de bloques 598.0\n",
      "numero de bloques 598.0\n",
      "numero de bloques 598.0\n",
      "numero de bloques 598.0\n",
      "numero de bloques 598.0\n",
      "numero de bloques 598.0\n",
      "numero de bloques 598.0\n",
      "numero de bloques 598.0\n",
      "numero de bloques 598.0\n",
      "numero de bloques 598.0\n",
      "numero de bloques 598.0\n",
      "numero de bloques 598.0\n",
      "numero de bloques 598.0\n",
      "numero de bloques 598.0\n",
      "numero de bloques 598.0\n",
      "numero de bloques 598.0\n",
      "numero de bloques 598.0\n",
      "numero de bloques 598.0\n",
      "numero de bloques 598.0\n",
      "numero de bloques 598.0\n",
      "numero de bloques 598.0\n",
      "numero de bloques 598.0\n",
      "numero de bloques 598.0\n",
      "numero de bloques 598.0\n",
      "numero de bloques 598.0\n",
      "numero de bloques 598.0\n",
      "numero de bloques 598.0\n",
      "numero de bloques 598.0\n",
      "numero de bloques 598.0\n",
      "numero de bloques 598.0\n",
      "numero de bloques 598.0\n",
      "numero de bloques 598.0\n",
      "numero de bloques 598.0\n",
      "numero de bloques 598.0\n",
      "numero de bloques 598.0\n",
      "numero de bloques 598.0\n",
      "numero de bloques 598.0\n",
      "numero de bloques 598.0\n",
      "numero de bloques 598.0\n",
      "numero de bloques 598.0\n",
      "numero de bloques 598.0\n",
      "numero de bloques 598.0\n",
      "numero de bloques 598.0\n",
      "numero de bloques 598.0\n",
      "numero de bloques 598.0\n",
      "numero de bloques 598.0\n",
      "numero de bloques 598.0\n",
      "numero de bloques 598.0\n",
      "numero de bloques 598.0\n",
      "numero de bloques 598.0\n",
      "numero de bloques 598.0\n",
      "numero de bloques 598.0\n",
      "numero de bloques 598.0\n",
      "numero de bloques 598.0\n",
      "numero de bloques 598.0\n",
      "numero de bloques 598.0\n",
      "numero de bloques 598.0\n",
      "numero de bloques 598.0\n",
      "numero de bloques 598.0\n",
      "numero de bloques 598.0\n",
      "numero de bloques 598.0\n",
      "numero de bloques 598.0\n",
      "numero de bloques 598.0\n",
      "numero de bloques 598.0\n",
      "numero de bloques 598.0\n",
      "numero de bloques 598.0\n",
      "numero de bloques 598.0\n",
      "numero de bloques 598.0\n",
      "numero de bloques 598.0\n",
      "numero de bloques 598.0\n",
      "numero de bloques 598.0\n",
      "numero de bloques 598.0\n",
      "numero de bloques 598.0\n",
      "numero de bloques 598.0\n",
      "numero de bloques 598.0\n",
      "numero de bloques 598.0\n",
      "numero de bloques 598.0\n",
      "numero de bloques 598.0\n",
      "numero de bloques 598.0\n",
      "numero de bloques 598.0\n",
      "numero de bloques 598.0\n",
      "numero de bloques 598.0\n",
      "numero de bloques 598.0\n",
      "numero de bloques 598.0\n",
      "numero de bloques 598.0\n",
      "numero de bloques 598.0\n",
      "numero de bloques 598.0\n",
      "numero de bloques 598.0\n",
      "numero de bloques 598.0\n",
      "numero de bloques 598.0\n",
      "numero de bloques 598.0\n",
      "numero de bloques 598.0\n",
      "numero de bloques 598.0\n",
      "numero de bloques 598.0\n",
      "numero de bloques 598.0\n",
      "numero de bloques 598.0\n",
      "numero de bloques 598.0\n",
      "numero de bloques 598.0\n",
      "numero de bloques 598.0\n",
      "numero de bloques 598.0\n"
     ]
    }
   ],
   "source": [
    "#Tarda mucho tiempo en ejecutarse, 30 minutos aprox\n",
    "extraerCaracteristicasImagenes2(\"cat_100_train_2.csv\", cat100_train, numeroBloque, dimension)\n",
    "extraerCaracteristicasImagenes2(\"dog_100_train_2.csv\", dog100_train, numeroBloque, dimension)\n",
    "extraerCaracteristicasImagenes2(\"cat_500_train_2.csv\", cat500_train, numeroBloque, dimension)\n",
    "extraerCaracteristicasImagenes2(\"dog_500_train_2.csv\", dog500_train, numeroBloque, dimension)"
   ]
  },
  {
   "cell_type": "code",
   "execution_count": null,
   "metadata": {},
   "outputs": [
    {
     "name": "stdout",
     "output_type": "stream",
     "text": [
      "numero de bloques 598.0\n",
      "numero de bloques 598.0\n",
      "numero de bloques 598.0\n",
      "numero de bloques 598.0\n",
      "numero de bloques 598.0\n",
      "numero de bloques 598.0\n",
      "numero de bloques 598.0\n",
      "numero de bloques 598.0\n",
      "numero de bloques 598.0\n",
      "numero de bloques 598.0\n",
      "numero de bloques 598.0\n",
      "numero de bloques 598.0\n",
      "numero de bloques 598.0\n",
      "numero de bloques 598.0\n",
      "numero de bloques 598.0\n",
      "numero de bloques 598.0\n",
      "numero de bloques 598.0\n",
      "numero de bloques 598.0\n",
      "numero de bloques 598.0\n",
      "numero de bloques 598.0\n",
      "numero de bloques 598.0\n",
      "numero de bloques 598.0\n",
      "numero de bloques 598.0\n",
      "numero de bloques 598.0\n",
      "numero de bloques 598.0\n",
      "numero de bloques 598.0\n",
      "numero de bloques 598.0\n",
      "numero de bloques 598.0\n",
      "numero de bloques 598.0\n",
      "numero de bloques 598.0\n",
      "numero de bloques 598.0\n",
      "numero de bloques 598.0\n",
      "numero de bloques 598.0\n",
      "numero de bloques 598.0\n",
      "numero de bloques 598.0\n",
      "numero de bloques 598.0\n",
      "numero de bloques 598.0\n",
      "numero de bloques 598.0\n",
      "numero de bloques 598.0\n",
      "numero de bloques 598.0\n",
      "numero de bloques 598.0\n",
      "numero de bloques 598.0\n",
      "numero de bloques 598.0\n",
      "numero de bloques 598.0\n",
      "numero de bloques 598.0\n",
      "numero de bloques 598.0\n",
      "numero de bloques 598.0\n",
      "numero de bloques 598.0\n",
      "numero de bloques 598.0\n",
      "numero de bloques 598.0\n",
      "numero de bloques 598.0\n",
      "numero de bloques 598.0\n",
      "numero de bloques 598.0\n",
      "numero de bloques 598.0\n",
      "numero de bloques 598.0\n",
      "numero de bloques 598.0\n",
      "numero de bloques 598.0\n",
      "numero de bloques 598.0\n",
      "numero de bloques 598.0\n",
      "numero de bloques 598.0\n",
      "numero de bloques 598.0\n",
      "numero de bloques 598.0\n",
      "numero de bloques 598.0\n",
      "numero de bloques 598.0\n",
      "numero de bloques 598.0\n",
      "numero de bloques 598.0\n",
      "numero de bloques 598.0\n",
      "numero de bloques 598.0\n",
      "numero de bloques 598.0\n",
      "numero de bloques 598.0\n",
      "numero de bloques 598.0\n",
      "numero de bloques 598.0\n",
      "numero de bloques 598.0\n",
      "numero de bloques 598.0\n",
      "numero de bloques 598.0\n",
      "numero de bloques 598.0\n",
      "numero de bloques 598.0\n",
      "numero de bloques 598.0\n",
      "numero de bloques 598.0\n",
      "numero de bloques 598.0\n",
      "numero de bloques 598.0\n",
      "numero de bloques 598.0\n",
      "numero de bloques 598.0\n",
      "numero de bloques 598.0\n",
      "numero de bloques 598.0\n",
      "numero de bloques 598.0\n",
      "numero de bloques 598.0\n",
      "numero de bloques 598.0\n",
      "numero de bloques 598.0\n",
      "numero de bloques 598.0\n",
      "numero de bloques 598.0\n",
      "numero de bloques 598.0\n",
      "numero de bloques 598.0\n",
      "numero de bloques 598.0\n",
      "numero de bloques 598.0\n",
      "numero de bloques 598.0\n",
      "numero de bloques 598.0\n",
      "numero de bloques 598.0\n",
      "numero de bloques 598.0\n",
      "numero de bloques 598.0\n",
      "numero de bloques 598.0\n",
      "numero de bloques 598.0\n",
      "numero de bloques 598.0\n",
      "numero de bloques 598.0\n",
      "numero de bloques 598.0\n",
      "numero de bloques 598.0\n",
      "numero de bloques 598.0\n",
      "numero de bloques 598.0\n",
      "numero de bloques 598.0\n",
      "numero de bloques 598.0\n",
      "numero de bloques 598.0\n",
      "numero de bloques 598.0\n",
      "numero de bloques 598.0\n",
      "numero de bloques 598.0\n",
      "numero de bloques 598.0\n",
      "numero de bloques 598.0\n",
      "numero de bloques 598.0\n",
      "numero de bloques 598.0\n",
      "numero de bloques 598.0\n",
      "numero de bloques 598.0\n",
      "numero de bloques 598.0\n",
      "numero de bloques 598.0\n",
      "numero de bloques 598.0\n",
      "numero de bloques 598.0\n",
      "numero de bloques 598.0\n",
      "numero de bloques 598.0\n",
      "numero de bloques 598.0\n",
      "numero de bloques 598.0\n",
      "numero de bloques 598.0\n",
      "numero de bloques 598.0\n",
      "numero de bloques 598.0\n",
      "numero de bloques 598.0\n",
      "numero de bloques 598.0\n",
      "numero de bloques 598.0\n",
      "numero de bloques 598.0\n",
      "numero de bloques 598.0\n",
      "numero de bloques 598.0\n",
      "numero de bloques 598.0\n",
      "numero de bloques 598.0\n",
      "numero de bloques 598.0\n",
      "numero de bloques 598.0\n",
      "numero de bloques 598.0\n",
      "numero de bloques 598.0\n",
      "numero de bloques 598.0\n",
      "numero de bloques 598.0\n",
      "numero de bloques 598.0\n",
      "numero de bloques 598.0\n",
      "numero de bloques 598.0\n",
      "numero de bloques 598.0\n",
      "numero de bloques 598.0\n",
      "numero de bloques 598.0\n",
      "numero de bloques 598.0\n",
      "numero de bloques 598.0\n",
      "numero de bloques 598.0\n",
      "numero de bloques 598.0\n",
      "numero de bloques 598.0\n",
      "numero de bloques 598.0\n",
      "numero de bloques 598.0\n",
      "numero de bloques 598.0\n",
      "numero de bloques 598.0\n",
      "numero de bloques 598.0\n",
      "numero de bloques 598.0\n",
      "numero de bloques 598.0\n",
      "numero de bloques 598.0\n",
      "numero de bloques 598.0\n",
      "numero de bloques 598.0\n",
      "numero de bloques 598.0\n",
      "numero de bloques 598.0\n",
      "numero de bloques 598.0\n",
      "numero de bloques 598.0\n",
      "numero de bloques 598.0\n",
      "numero de bloques 598.0\n",
      "numero de bloques 598.0\n",
      "numero de bloques 598.0\n",
      "numero de bloques 598.0\n",
      "numero de bloques 598.0\n",
      "numero de bloques 598.0\n",
      "numero de bloques 598.0\n",
      "numero de bloques 598.0\n",
      "numero de bloques 598.0\n",
      "numero de bloques 598.0\n",
      "numero de bloques 598.0\n",
      "numero de bloques 598.0\n",
      "numero de bloques 598.0\n",
      "numero de bloques 598.0\n",
      "numero de bloques 598.0\n",
      "numero de bloques 598.0\n",
      "numero de bloques 598.0\n",
      "numero de bloques 598.0\n",
      "numero de bloques 598.0\n",
      "numero de bloques 598.0\n",
      "numero de bloques 598.0\n",
      "numero de bloques 598.0\n",
      "numero de bloques 598.0\n",
      "numero de bloques 598.0\n",
      "numero de bloques 598.0\n",
      "numero de bloques 598.0\n",
      "numero de bloques 598.0\n",
      "numero de bloques 598.0\n",
      "numero de bloques 598.0\n",
      "numero de bloques 598.0\n",
      "numero de bloques 598.0\n",
      "numero de bloques 598.0\n",
      "numero de bloques 598.0\n",
      "numero de bloques 598.0\n",
      "numero de bloques 598.0\n",
      "numero de bloques 598.0\n",
      "numero de bloques 598.0\n",
      "numero de bloques 598.0\n",
      "numero de bloques 598.0\n",
      "numero de bloques 598.0\n",
      "numero de bloques 598.0\n",
      "numero de bloques 598.0\n",
      "numero de bloques 598.0\n",
      "numero de bloques 598.0\n",
      "numero de bloques 598.0\n",
      "numero de bloques 598.0\n",
      "numero de bloques 598.0\n",
      "numero de bloques 598.0\n",
      "numero de bloques 598.0\n",
      "numero de bloques 598.0\n",
      "numero de bloques 598.0\n",
      "numero de bloques 598.0\n",
      "numero de bloques 598.0\n",
      "numero de bloques 598.0\n",
      "numero de bloques 598.0\n",
      "numero de bloques 598.0\n",
      "numero de bloques 598.0\n",
      "numero de bloques 598.0\n",
      "numero de bloques 598.0\n",
      "numero de bloques 598.0\n",
      "numero de bloques 598.0\n",
      "numero de bloques 598.0\n",
      "numero de bloques 598.0\n",
      "numero de bloques 598.0\n",
      "numero de bloques 598.0\n",
      "numero de bloques 598.0\n",
      "numero de bloques 598.0\n",
      "numero de bloques 598.0\n",
      "numero de bloques 598.0\n"
     ]
    }
   ],
   "source": [
    "#Tarda mucho tiempo en ejecutarse, 15 minutos aprox\n",
    "extraerCaracteristicasImagenes2(\"cat_100_test_2.csv\", cat100_test, numeroBloque, dimension)\n",
    "extraerCaracteristicasImagenes2(\"dog_100_test_2.csv\", dog100_test, numeroBloque, dimension)\n",
    "extraerCaracteristicasImagenes2(\"cat_500_test_2.csv\", cat500_test, numeroBloque, dimension)\n",
    "extraerCaracteristicasImagenes2(\"dog_500_test_2.csv\", dog500_test, numeroBloque, dimension)"
   ]
  },
  {
   "cell_type": "code",
   "execution_count": 30,
   "metadata": {},
   "outputs": [
    {
     "name": "stdout",
     "output_type": "stream",
     "text": [
      "Numero de imagenes en cada carpeta en train:  8\n",
      "Numero de imagenes en cada carpeta en test:  8 \n",
      "\n"
     ]
    }
   ],
   "source": [
    "(datasets_1, datasets_2) = LeerCarpetas(\"datasets_1_txt\", \"datasets_2_txt\")"
   ]
  },
  {
   "cell_type": "code",
   "execution_count": 31,
   "metadata": {},
   "outputs": [
    {
     "data": {
      "text/plain": [
       "['datasets_1_txt/cat_100_test.txt',\n",
       " 'datasets_1_txt/cat_100_train.txt',\n",
       " 'datasets_1_txt/cat_500_test.txt',\n",
       " 'datasets_1_txt/cat_500_train.txt',\n",
       " 'datasets_1_txt/dog_100_test.txt',\n",
       " 'datasets_1_txt/dog_100_train.txt',\n",
       " 'datasets_1_txt/dog_500_test.txt',\n",
       " 'datasets_1_txt/dog_500_train.txt']"
      ]
     },
     "execution_count": 31,
     "metadata": {},
     "output_type": "execute_result"
    }
   ],
   "source": [
    "datasets_1"
   ]
  },
  {
   "cell_type": "code",
   "execution_count": 32,
   "metadata": {},
   "outputs": [],
   "source": [
    "def LeerDatos (ficheroTest, ficheroTrain):\n",
    "    Xtrain = np.loadtxt(ficheroTrain, delimiter=\",\")\n",
    "    Xtest = np.loadtxt(ficheroTest, delimiter=\",\")\n",
    "    return (Xtrain, Xtest)"
   ]
  },
  {
   "attachments": {},
   "cell_type": "markdown",
   "metadata": {},
   "source": [
    "Lectura de datos de los datasets con el primer tipo de extracción de caracteristicas"
   ]
  },
  {
   "cell_type": "code",
   "execution_count": 78,
   "metadata": {},
   "outputs": [],
   "source": [
    "(Xtrain_cat_100, Xtest_cat_100) = LeerDatos(datasets_1[0], datasets_1[1])\n",
    "(Xtrain_cat_500, Xtest_cat_500) = LeerDatos(datasets_1[2], datasets_1[3])\n",
    "(Xtrain_dog_100, Xtest_dog_100) = LeerDatos(datasets_1[4], datasets_1[5])\n",
    "(Xtrain_dog_500, Xtest_dog_500) = LeerDatos(datasets_1[6], datasets_1[7])"
   ]
  },
  {
   "attachments": {},
   "cell_type": "markdown",
   "metadata": {},
   "source": [
    "Creamos los parámetros X e y que pasaremos a los modelos, poniendo las imágenes de los perros como clase 0 y la imagen de los gatos como clase1 en el parametro y."
   ]
  },
  {
   "cell_type": "code",
   "execution_count": 79,
   "metadata": {},
   "outputs": [],
   "source": [
    "#Creamos Xtrain concatenando las características de las imágenes de gatos y perros\n",
    "Xtrain_100 = np.vstack((Xtrain_cat_100, Xtrain_dog_100))\n",
    "#Creamos ytrain concatenando un vector de unos con uno de ceros, que representará el parámetro y\n",
    "ytrain_100 = np.hstack((np.ones(Xtrain_cat_100.shape[0]), np.zeros(Xtrain_dog_100.shape[0])))\n",
    "\n",
    "#Mismo procedimiento con todos, usando Xtest en este caso\n",
    "Xtest_100 = np.vstack((Xtest_cat_100, Xtest_dog_100))\n",
    "ytest_100 = np.hstack((np.ones(Xtest_cat_100.shape[0]), np.zeros(Xtest_dog_100.shape[0])))\n",
    "\n",
    "Xtrain_500 = np.vstack((Xtrain_cat_500, Xtrain_dog_500))\n",
    "ytrain_500 = np.hstack((np.ones(Xtrain_cat_500.shape[0]), np.zeros(Xtrain_dog_500.shape[0])))\n",
    "\n",
    "Xtest_500 = np.vstack((Xtest_cat_500, Xtest_dog_500))\n",
    "ytest_500 = np.hstack((np.ones(Xtest_cat_500.shape[0]), np.zeros(Xtest_dog_500.shape[0])))"
   ]
  },
  {
   "cell_type": "code",
   "execution_count": 35,
   "metadata": {},
   "outputs": [
    {
     "name": "stdout",
     "output_type": "stream",
     "text": [
      "(200, 153088)\n",
      "(200,)\n",
      "(40, 153088)\n",
      "(40,)\n",
      "(1000, 153088)\n",
      "(1000,)\n",
      "(200, 153088)\n",
      "(200,)\n"
     ]
    }
   ],
   "source": [
    "print(Xtrain_100.shape)\n",
    "print(ytrain_100.shape)\n",
    "print(Xtest_100.shape)\n",
    "print(ytest_100.shape)\n",
    "print(Xtrain_500.shape)\n",
    "print(ytrain_500.shape)\n",
    "print(Xtest_500.shape)\n",
    "print(ytest_500.shape)"
   ]
  },
  {
   "attachments": {},
   "cell_type": "markdown",
   "metadata": {},
   "source": [
    "## 1. COMPROBACIONES DATASETS DEL PRIMER TIPO DE EXTRACCIÓN DE CARACTERÍSTICAS"
   ]
  },
  {
   "attachments": {},
   "cell_type": "markdown",
   "metadata": {},
   "source": [
    "### 1.1. SVM\n",
    "\n",
    "Estamos trabajando en un problema en el que las características son mucho mayores que los ejemplos que tenemos, por lo que usaremos SVMs sin kernel, ya que teóricamente es mejor para estos casos."
   ]
  },
  {
   "attachments": {},
   "cell_type": "markdown",
   "metadata": {},
   "source": [
    "A continación procederemos a usar el modelo SVM para calcular la predicción de los ejemplos en test con ayuda del entrenamiento de los ejemplos Xtest extraidos anteriormente"
   ]
  },
  {
   "attachments": {},
   "cell_type": "markdown",
   "metadata": {},
   "source": [
    "#### 200 EJEMPLOS EN TRAIN Y 40 EJEMPLOS EN TEST"
   ]
  },
  {
   "attachments": {},
   "cell_type": "markdown",
   "metadata": {},
   "source": [
    "##### SVM SIN PARÁMETROS"
   ]
  },
  {
   "cell_type": "code",
   "execution_count": 36,
   "metadata": {},
   "outputs": [],
   "source": [
    "# Importamos las SVMs\n",
    "from sklearn import svm"
   ]
  },
  {
   "cell_type": "code",
   "execution_count": 37,
   "metadata": {},
   "outputs": [
    {
     "name": "stdout",
     "output_type": "stream",
     "text": [
      "Precisión en test: 75.0\n",
      "Precisión en train: 93.5\n"
     ]
    }
   ],
   "source": [
    "# Creamos clasificador SVM\n",
    "svc = svm.SVC() \n",
    "# Entrenamos modelo\n",
    "svc.fit(Xtrain_100, ytrain_100.ravel())\n",
    "\n",
    "accTest = svc.score(Xtest_100, ytest_100.ravel())\n",
    "accTrain = svc.score(Xtrain_100, ytrain_100.ravel())\n",
    "\n",
    "print(\"Precisión en test: {}\".format(accTest*100))\n",
    "print(\"Precisión en train: {}\".format(accTrain*100))"
   ]
  },
  {
   "attachments": {},
   "cell_type": "markdown",
   "metadata": {},
   "source": [
    "##### SVM CON PARÁMETROS"
   ]
  },
  {
   "cell_type": "code",
   "execution_count": 38,
   "metadata": {},
   "outputs": [
    {
     "name": "stdout",
     "output_type": "stream",
     "text": [
      "Los valores de C son:  [0.1, 0.5, 0.9, 10, 100, 1000, 10000]\n",
      "Precisión en train   :  [0.68, 0.795, 0.895, 1.0, 1.0, 1.0, 1.0]\n",
      "Precisión en test   :  [0.65, 0.675, 0.725, 0.85, 0.85, 0.85, 0.85]\n"
     ]
    }
   ],
   "source": [
    "C_values = [0.1, 0.5, 0.9, 10, 100, 1000, 10000]\n",
    "accuaraciesTrain = []\n",
    "accuaraciesTest = []\n",
    "\n",
    "for c in (C_values):\n",
    "    # Creamos clasificador SVM\n",
    "    svc = svm.SVC(C = c)\n",
    "    # Entrenamos modelo\n",
    "    svc.fit(Xtrain_100, ytrain_100.ravel())\n",
    "    accTest = svc.score(Xtest_100, ytest_100.ravel())\n",
    "    accTrain = svc.score(Xtrain_100, ytrain_100.ravel())\n",
    "    accuaraciesTrain.append(accTrain)\n",
    "    accuaraciesTest.append(accTest)\n",
    "print(\"Los valores de C son: \", C_values)\n",
    "print(\"Precisión en train   : \", accuaraciesTrain)\n",
    "print(\"Precisión en test   : \", accuaraciesTest)"
   ]
  },
  {
   "cell_type": "code",
   "execution_count": 39,
   "metadata": {},
   "outputs": [
    {
     "data": {
      "image/png": "[encoded data removed]",
      "text/plain": [
       "<Figure size 640x480 with 1 Axes>"
      ]
     },
     "metadata": {},
     "output_type": "display_data"
    }
   ],
   "source": [
    "import pandas as pd \n",
    "data = pd.DataFrame({'Train' : accuaraciesTrain,\n",
    "                     'Test': accuaraciesTest},\n",
    "                    index=(C_values))\n",
    "n = len(data.index)\n",
    "x = np.arange(n)\n",
    "width = 0.25\n",
    "plt.bar(x - width, data.Train, width=width, label='Train')\n",
    "plt.bar(x, data.Test, width=width, label='Test')\n",
    "plt.xticks(x, data.index)\n",
    "plt.legend(loc='best')\n",
    "plt.xlabel(\"C_value\")\n",
    "plt.ylabel(\"Accuracy\")\n",
    "plt.show()"
   ]
  },
  {
   "cell_type": "code",
   "execution_count": 40,
   "metadata": {},
   "outputs": [
    {
     "name": "stdout",
     "output_type": "stream",
     "text": [
      "Precisión en test: 100.0\n",
      "Precisión en test: 100.0\n"
     ]
    }
   ],
   "source": [
    "# Creamos clasificador SVM\n",
    "svc = svm.SVC(C = 10.0, gamma=10, max_iter=1000) \n",
    "# Entrenamos modelo\n",
    "svc.fit(Xtrain_100, ytrain_100.ravel())\n",
    "\n",
    "accTest = svc.score(Xtest_100, ytest_100.ravel())\n",
    "accTrain = svc.score(Xtrain_100, ytrain_100.ravel())\n",
    "\n",
    "print(\"Precisión en test: {}\".format(accTest*100))\n",
    "print(\"Precisión en test: {}\".format(accTrain*100))"
   ]
  },
  {
   "cell_type": "code",
   "execution_count": 41,
   "metadata": {},
   "outputs": [
    {
     "name": "stdout",
     "output_type": "stream",
     "text": [
      "Los valores de C son:  [0.1, 0.5, 0.9, 10, 100, 1000]\n",
      "Precisión en train   :  [1.0, 1.0, 1.0, 1.0, 1.0, 1.0]\n",
      "Precisión en test   :  [1.0, 1.0, 1.0, 1.0, 1.0, 1.0]\n"
     ]
    }
   ],
   "source": [
    "gamma_values = [0.1, 0.5, 0.9, 10, 100, 1000]\n",
    "accuaraciesTrain = []\n",
    "accuaraciesTest = []\n",
    "\n",
    "for gamma in (gamma_values):\n",
    "    # Creamos clasificador SVM\n",
    "    svc = svm.SVC(C = 10.0, gamma=gamma, max_iter=1000)\n",
    "    # Entrenamos modelo\n",
    "    svc.fit(Xtrain_100, ytrain_100.ravel())\n",
    "    accTest = svc.score(Xtest_100, ytest_100.ravel())\n",
    "    accTrain = svc.score(Xtrain_100, ytrain_100.ravel())\n",
    "    accuaraciesTrain.append(accTrain)\n",
    "    accuaraciesTest.append(accTest)\n",
    "print(\"Los valores de C son: \", gamma_values)\n",
    "print(\"Precisión en train   : \", accuaraciesTrain)\n",
    "print(\"Precisión en test   : \", accuaraciesTest)"
   ]
  },
  {
   "cell_type": "code",
   "execution_count": 42,
   "metadata": {},
   "outputs": [
    {
     "data": {
      "image/png": "[encoded data removed]",
      "text/plain": [
       "<Figure size 640x480 with 1 Axes>"
      ]
     },
     "metadata": {},
     "output_type": "display_data"
    }
   ],
   "source": [
    "data = pd.DataFrame({'Train' : accuaraciesTrain,\n",
    "                     'Test': accuaraciesTest},\n",
    "                    index=(gamma_values))\n",
    "n = len(data.index)\n",
    "x = np.arange(n)\n",
    "width = 0.25\n",
    "plt.bar(x - width, data.Train, width=width, label='Train')\n",
    "plt.bar(x, data.Test, width=width, label='Test')\n",
    "plt.xticks(x, data.index)\n",
    "plt.legend(loc='best')\n",
    "plt.xlabel(\"gamma_values\")\n",
    "plt.ylabel(\"Accuracy\")\n",
    "plt.show()"
   ]
  },
  {
   "attachments": {},
   "cell_type": "markdown",
   "metadata": {},
   "source": [
    "#### 1000 EJEMPLOS EN TRAIN Y 200 EJEMPLOS EN TEST"
   ]
  },
  {
   "attachments": {},
   "cell_type": "markdown",
   "metadata": {},
   "source": [
    "##### SVM SIN PARÁMETROS"
   ]
  },
  {
   "cell_type": "code",
   "execution_count": 43,
   "metadata": {},
   "outputs": [
    {
     "name": "stdout",
     "output_type": "stream",
     "text": [
      "Precisión en test: 86.5\n",
      "Precisión en train: 95.0\n"
     ]
    }
   ],
   "source": [
    "# Creamos clasificador SVM\n",
    "svc = svm.SVC() \n",
    "# Entrenamos modelo\n",
    "svc.fit(Xtrain_500, ytrain_500.ravel())\n",
    "\n",
    "accTest = svc.score(Xtest_500, ytest_500.ravel())\n",
    "accTrain = svc.score(Xtrain_500, ytrain_500.ravel())\n",
    "\n",
    "print(\"Precisión en test: {}\".format(accTest*100))\n",
    "print(\"Precisión en train: {}\".format(accTrain*100))"
   ]
  },
  {
   "attachments": {},
   "cell_type": "markdown",
   "metadata": {},
   "source": [
    "#### SVM CON PARÁMETROS"
   ]
  },
  {
   "cell_type": "code",
   "execution_count": 45,
   "metadata": {},
   "outputs": [
    {
     "name": "stdout",
     "output_type": "stream",
     "text": [
      "Los valores de C son:  [0.1, 0.5, 0.9, 10, 100, 1000, 10000]\n",
      "Precisión en train   :  [0.645, 0.822, 0.943, 1.0, 1.0, 1.0, 1.0]\n",
      "Precisión en test   :  [0.695, 0.8, 0.86, 0.895, 0.895, 0.895, 0.895]\n"
     ]
    }
   ],
   "source": [
    "C_values = [0.1, 0.5, 0.9, 10, 100, 1000, 10000]\n",
    "accuaraciesTrain = []\n",
    "accuaraciesTest = []\n",
    "\n",
    "for c in (C_values):\n",
    "    # Creamos clasificador SVM\n",
    "    svc = svm.SVC(C = c)\n",
    "    # Entrenamos modelo\n",
    "    svc.fit(Xtrain_500, ytrain_500.ravel())\n",
    "    accTest = svc.score(Xtest_500, ytest_500.ravel())\n",
    "    accTrain = svc.score(Xtrain_500, ytrain_500.ravel())\n",
    "    accuaraciesTrain.append(accTrain)\n",
    "    accuaraciesTest.append(accTest)\n",
    "print(\"Los valores de C son: \", C_values)\n",
    "print(\"Precisión en train   : \", accuaraciesTrain)\n",
    "print(\"Precisión en test   : \", accuaraciesTest)"
   ]
  },
  {
   "cell_type": "code",
   "execution_count": 46,
   "metadata": {},
   "outputs": [
    {
     "data": {
      "image/png": "[encoded data removed]",
      "text/plain": [
       "<Figure size 640x480 with 1 Axes>"
      ]
     },
     "metadata": {},
     "output_type": "display_data"
    }
   ],
   "source": [
    "import pandas as pd \n",
    "data = pd.DataFrame({'Train' : accuaraciesTrain,\n",
    "                     'Test': accuaraciesTest},\n",
    "                    index=(C_values))\n",
    "n = len(data.index)\n",
    "x = np.arange(n)\n",
    "width = 0.25\n",
    "plt.bar(x - width, data.Train, width=width, label='Train')\n",
    "plt.bar(x, data.Test, width=width, label='Test')\n",
    "plt.xticks(x, data.index)\n",
    "plt.legend(loc='best')\n",
    "plt.xlabel(\"C_value\")\n",
    "plt.ylabel(\"Accuracy\")\n",
    "plt.show()"
   ]
  },
  {
   "cell_type": "code",
   "execution_count": 47,
   "metadata": {},
   "outputs": [
    {
     "name": "stdout",
     "output_type": "stream",
     "text": [
      "Los valores de C son:  [0.1, 0.5, 0.9, 10, 100, 1000]\n",
      "Precisión en train   :  [1.0, 1.0, 1.0, 1.0, 1.0, 1.0]\n",
      "Precisión en test   :  [1.0, 1.0, 1.0, 1.0, 1.0, 1.0]\n"
     ]
    }
   ],
   "source": [
    "gamma_values = [0.1, 0.5, 0.9, 10, 100, 1000]\n",
    "accuaraciesTrain = []\n",
    "accuaraciesTest = []\n",
    "\n",
    "for gamma in (gamma_values):\n",
    "    # Creamos clasificador SVM\n",
    "    svc = svm.SVC(C = 10.0, gamma=gamma, max_iter=1000)\n",
    "    # Entrenamos modelo\n",
    "    svc.fit(Xtrain_500, ytrain_500.ravel())\n",
    "    accTest = svc.score(Xtest_500, ytest_500.ravel())\n",
    "    accTrain = svc.score(Xtrain_500, ytrain_500.ravel())\n",
    "    accuaraciesTrain.append(accTrain)\n",
    "    accuaraciesTest.append(accTest)\n",
    "print(\"Los valores de C son: \", gamma_values)\n",
    "print(\"Precisión en train   : \", accuaraciesTrain)\n",
    "print(\"Precisión en test   : \", accuaraciesTest)"
   ]
  },
  {
   "cell_type": "code",
   "execution_count": 48,
   "metadata": {},
   "outputs": [
    {
     "data": {
      "image/png": "[encoded data removed]",
      "text/plain": [
       "<Figure size 640x480 with 1 Axes>"
      ]
     },
     "metadata": {},
     "output_type": "display_data"
    }
   ],
   "source": [
    "data = pd.DataFrame({'Train' : accuaraciesTrain,\n",
    "                     'Test': accuaraciesTest},\n",
    "                    index=(gamma_values))\n",
    "n = len(data.index)\n",
    "x = np.arange(n)\n",
    "width = 0.25\n",
    "plt.bar(x - width, data.Train, width=width, label='Train')\n",
    "plt.bar(x, data.Test, width=width, label='Test')\n",
    "plt.xticks(x, data.index)\n",
    "plt.legend(loc='best')\n",
    "plt.xlabel(\"gamma_value\")\n",
    "plt.ylabel(\"Accuracy\")\n",
    "plt.show()"
   ]
  },
  {
   "attachments": {},
   "cell_type": "markdown",
   "metadata": {},
   "source": [
    "#### 1.2.LOGISTIC REGRESSION"
   ]
  },
  {
   "attachments": {},
   "cell_type": "markdown",
   "metadata": {},
   "source": [
    "#### 200 EJEMPLOS EN TRAIN Y 40 EJEMPLOS EN TEST"
   ]
  },
  {
   "cell_type": "code",
   "execution_count": 80,
   "metadata": {},
   "outputs": [
    {
     "name": "stdout",
     "output_type": "stream",
     "text": [
      "Precisión en test: 85.0\n",
      "Precisión en train: 100.0\n"
     ]
    }
   ],
   "source": [
    "regr = LogisticRegression()\n",
    "regr.fit(Xtrain_100, ytrain_100)\n",
    "accTest = regr.score(Xtest_100, ytest_100)\n",
    "accTrain = regr.score(Xtrain_100, ytrain_100)\n",
    "print(\"Precisión en test: {}\".format(accTest*100))\n",
    "print(\"Precisión en train: {}\".format(accTrain*100))"
   ]
  },
  {
   "attachments": {},
   "cell_type": "markdown",
   "metadata": {},
   "source": [
    "#### 1000 EJEMPLOS EN TRAIN Y 200 EJEMPLOS EN TEST"
   ]
  },
  {
   "cell_type": "code",
   "execution_count": 81,
   "metadata": {},
   "outputs": [
    {
     "name": "stderr",
     "output_type": "stream",
     "text": [
      "C:\\Users\\danim\\AppData\\Local\\Packages\\PythonSoftwareFoundation.Python.3.10_qbz5n2kfra8p0\\LocalCache\\local-packages\\Python310\\site-packages\\sklearn\\linear_model\\_logistic.py:444: ConvergenceWarning: lbfgs failed to converge (status=1):\n",
      "STOP: TOTAL NO. of ITERATIONS REACHED LIMIT.\n",
      "\n",
      "Increase the number of iterations (max_iter) or scale the data as shown in:\n",
      "    https://scikit-learn.org/stable/modules/preprocessing.html\n",
      "Please also refer to the documentation for alternative solver options:\n",
      "    https://scikit-learn.org/stable/modules/linear_model.html#logistic-regression\n",
      "  n_iter_i = _check_optimize_result(\n"
     ]
    },
    {
     "name": "stdout",
     "output_type": "stream",
     "text": [
      "Precisión en test: 85.0\n",
      "Precisión en train: 100.0\n"
     ]
    }
   ],
   "source": [
    "regr = LogisticRegression()\n",
    "regr.fit(Xtrain_500, ytrain_500)\n",
    "accTest = regr.score(Xtest_500, ytest_500)\n",
    "accTrain = regr.score(Xtrain_500, ytrain_500)\n",
    "print(\"Precisión en test: {}\".format(accTest*100))\n",
    "print(\"Precisión en train: {}\".format(accTrain*100))"
   ]
  },
  {
   "attachments": {},
   "cell_type": "markdown",
   "metadata": {},
   "source": [
    "#### 1.3.REDES NEURONALES"
   ]
  },
  {
   "attachments": {},
   "cell_type": "markdown",
   "metadata": {},
   "source": [
    "#### 200 EJEMPLOS EN TRAIN Y 40 EJEMPLOS EN TEST"
   ]
  },
  {
   "cell_type": "code",
   "execution_count": 82,
   "metadata": {},
   "outputs": [
    {
     "name": "stdout",
     "output_type": "stream",
     "text": [
      "Precisión en test: 92.5\n",
      "Precisión en train: 100.0\n"
     ]
    }
   ],
   "source": [
    "clf = MLPClassifier()\n",
    "clf.fit(Xtrain_100, ytrain_100)\n",
    "accTrain = clf.score(Xtrain_100, ytrain_100)\n",
    "accTest = clf.score(Xtest_100, ytest_100)\n",
    "\n",
    "print(\"Precisión en test: {}\".format(accTest*100))\n",
    "print(\"Precisión en train: {}\".format(accTrain*100))"
   ]
  },
  {
   "attachments": {},
   "cell_type": "markdown",
   "metadata": {},
   "source": [
    "#### 1000 EJEMPLOS EN TRAIN Y 200 EJEMPLOS EN TEST"
   ]
  },
  {
   "cell_type": "code",
   "execution_count": 52,
   "metadata": {},
   "outputs": [
    {
     "name": "stdout",
     "output_type": "stream",
     "text": [
      "Precisión en test: 50.0\n",
      "Precisión en train: 50.0\n"
     ]
    }
   ],
   "source": [
    "clf = MLPClassifier()\n",
    "clf.fit(Xtrain_500, ytrain_500)\n",
    "accTrain = clf.score(Xtrain_500, ytrain_500)\n",
    "accTest = clf.score(Xtest_500, ytest_500)\n",
    "\n",
    "print(\"Precisión en test: {}\".format(accTest*100))\n",
    "print(\"Precisión en train: {}\".format(accTrain*100))"
   ]
  },
  {
   "attachments": {},
   "cell_type": "markdown",
   "metadata": {},
   "source": [
    "#### 1.4. ADABOOST CON DECISION STUMP"
   ]
  },
  {
   "attachments": {},
   "cell_type": "markdown",
   "metadata": {},
   "source": [
    "#### 200 EJEMPLOS EN TRAIN Y 40 EJEMPLOS EN TEST"
   ]
  },
  {
   "cell_type": "code",
   "execution_count": 53,
   "metadata": {},
   "outputs": [
    {
     "name": "stdout",
     "output_type": "stream",
     "text": [
      "Precisión en test: 82.5\n",
      "Precisión en train: 100.0\n"
     ]
    }
   ],
   "source": [
    "numClasificadoresBase = 30\n",
    "adaboost = AdaBoostClassifier(base_estimator= DecisionTreeClassifier(criterion='entropy', max_depth=1), n_estimators=numClasificadoresBase, random_state=12)\n",
    "adaboost.fit(Xtrain_100, ytrain_100)\n",
    "\n",
    "accTrain = adaboost.score(Xtrain_100, ytrain_100)\n",
    "accTest = adaboost.score(Xtest_100, ytest_100)\n",
    "\n",
    "print(\"Precisión en test: {}\".format(accTest*100))\n",
    "print(\"Precisión en train: {}\".format(accTrain*100))"
   ]
  },
  {
   "attachments": {},
   "cell_type": "markdown",
   "metadata": {},
   "source": [
    "#### 1000 EJEMPLOS EN TRAIN Y 200 EJEMPLOS EN TEST"
   ]
  },
  {
   "cell_type": "code",
   "execution_count": 54,
   "metadata": {},
   "outputs": [
    {
     "name": "stdout",
     "output_type": "stream",
     "text": [
      "Precisión en test: 72.5\n",
      "Precisión en train: 86.6\n"
     ]
    }
   ],
   "source": [
    "numClasificadoresBase = 30\n",
    "adaboost = AdaBoostClassifier(base_estimator= DecisionTreeClassifier(criterion='entropy', max_depth=1), n_estimators=numClasificadoresBase, random_state=12)\n",
    "adaboost.fit(Xtrain_500, ytrain_500)\n",
    "\n",
    "accTrain = adaboost.score(Xtrain_500, ytrain_500)\n",
    "accTest = adaboost.score(Xtest_500, ytest_500)\n",
    "\n",
    "print(\"Precisión en test: {}\".format(accTest*100))\n",
    "print(\"Precisión en train: {}\".format(accTrain*100))"
   ]
  },
  {
   "attachments": {},
   "cell_type": "markdown",
   "metadata": {},
   "source": [
    "Leemos datos de la segunda extracción"
   ]
  },
  {
   "cell_type": "code",
   "execution_count": 55,
   "metadata": {},
   "outputs": [
    {
     "data": {
      "text/plain": [
       "['datasets_2_txt/cat_100_test_2.txt',\n",
       " 'datasets_2_txt/cat_100_train_2.txt',\n",
       " 'datasets_2_txt/cat_500_test_2.txt',\n",
       " 'datasets_2_txt/cat_500_train_2.txt',\n",
       " 'datasets_2_txt/dog_100_test_2.txt',\n",
       " 'datasets_2_txt/dog_100_train_2.txt',\n",
       " 'datasets_2_txt/dog_500_test_2.txt',\n",
       " 'datasets_2_txt/dog_500_train_2.txt']"
      ]
     },
     "execution_count": 55,
     "metadata": {},
     "output_type": "execute_result"
    }
   ],
   "source": [
    "datasets_2"
   ]
  },
  {
   "attachments": {},
   "cell_type": "markdown",
   "metadata": {},
   "source": [
    "Lectura de datos de los datasets con el segundo tipo de extracción de caracteristicas"
   ]
  },
  {
   "cell_type": "code",
   "execution_count": 84,
   "metadata": {},
   "outputs": [],
   "source": [
    "(Xtrain_cat_100, Xtest_cat_100) = LeerDatos(datasets_2[0], datasets_2[1])\n",
    "(Xtrain_cat_500, Xtest_cat_500) = LeerDatos(datasets_2[2], datasets_2[3])\n",
    "(Xtrain_dog_100, Xtest_dog_100) = LeerDatos(datasets_2[4], datasets_2[5])\n",
    "(Xtrain_dog_500, Xtest_dog_500) = LeerDatos(datasets_2[6], datasets_2[7])"
   ]
  },
  {
   "cell_type": "code",
   "execution_count": 85,
   "metadata": {},
   "outputs": [],
   "source": [
    "Xtrain_100 = np.vstack((Xtrain_cat_100, Xtrain_dog_100))\n",
    "ytrain_100 = np.hstack((np.ones(Xtrain_cat_100.shape[0]), np.zeros(Xtrain_dog_100.shape[0])))\n",
    "Xtest_100 = np.vstack((Xtest_cat_100, Xtest_dog_100))\n",
    "ytest_100 = np.hstack((np.ones(Xtest_cat_100.shape[0]), np.zeros(Xtest_dog_100.shape[0])))\n",
    "Xtrain_500 = np.vstack((Xtrain_cat_500, Xtrain_dog_500))\n",
    "ytrain_500 = np.hstack((np.ones(Xtrain_cat_500.shape[0]), np.zeros(Xtrain_dog_500.shape[0])))\n",
    "Xtest_500 = np.vstack((Xtest_cat_500, Xtest_dog_500))\n",
    "ytest_500 = np.hstack((np.ones(Xtest_cat_500.shape[0]), np.zeros(Xtest_dog_500.shape[0])))"
   ]
  },
  {
   "cell_type": "code",
   "execution_count": 58,
   "metadata": {},
   "outputs": [
    {
     "name": "stdout",
     "output_type": "stream",
     "text": [
      "(200, 5382)\n",
      "(200,)\n",
      "(40, 5382)\n",
      "(40,)\n",
      "(1000, 5382)\n",
      "(1000,)\n",
      "(200, 5382)\n",
      "(200,)\n"
     ]
    }
   ],
   "source": [
    "print(Xtrain_100.shape)\n",
    "print(ytrain_100.shape)\n",
    "print(Xtest_100.shape)\n",
    "print(ytest_100.shape)\n",
    "print(Xtrain_500.shape)\n",
    "print(ytrain_500.shape)\n",
    "print(Xtest_500.shape)\n",
    "print(ytest_500.shape)"
   ]
  },
  {
   "attachments": {},
   "cell_type": "markdown",
   "metadata": {},
   "source": [
    "## 2. COMPROBACIONES DATASETS DEL PRIMER TIPO DE EXTRACCIÓN DE CARACTERÍSTICAS"
   ]
  },
  {
   "attachments": {},
   "cell_type": "markdown",
   "metadata": {},
   "source": [
    "### 2. SVM CON EL SEGUNDO TIPO DE EXTRACCIÓN"
   ]
  },
  {
   "attachments": {},
   "cell_type": "markdown",
   "metadata": {},
   "source": [
    "#### 200 EJEMPLOS EN TRAIN Y 40 EJEMPLOS EN TEST"
   ]
  },
  {
   "attachments": {},
   "cell_type": "markdown",
   "metadata": {},
   "source": [
    "##### SVM SIN PARÁMETROS"
   ]
  },
  {
   "cell_type": "code",
   "execution_count": 86,
   "metadata": {},
   "outputs": [
    {
     "name": "stdout",
     "output_type": "stream",
     "text": [
      "Precisión en test: 57.49999999999999\n",
      "Precisión en train: 66.0\n"
     ]
    }
   ],
   "source": [
    "# Creamos clasificador SVM\n",
    "svc = svm.SVC() \n",
    "# Entrenamos modelo\n",
    "svc.fit(Xtrain_100, ytrain_100.ravel())\n",
    "\n",
    "accTest = svc.score(Xtest_100, ytest_100.ravel())\n",
    "accTrain = svc.score(Xtrain_100, ytrain_100.ravel())\n",
    "\n",
    "print(\"Precisión en test: {}\".format(accTest*100))\n",
    "print(\"Precisión en train: {}\".format(accTrain*100))"
   ]
  },
  {
   "attachments": {},
   "cell_type": "markdown",
   "metadata": {},
   "source": [
    "##### SVM CON PARÁMETROS"
   ]
  },
  {
   "cell_type": "code",
   "execution_count": 60,
   "metadata": {},
   "outputs": [
    {
     "name": "stdout",
     "output_type": "stream",
     "text": [
      "Los valores de C son:  [0.1, 0.5, 0.9, 10, 100, 1000, 10000]\n",
      "Precisión en train   :  [0.645, 0.645, 0.66, 0.705, 0.705, 0.705, 0.705]\n",
      "Precisión en test   :  [0.6, 0.6, 0.575, 0.6, 0.6, 0.6, 0.6]\n"
     ]
    }
   ],
   "source": [
    "C_values = [0.1, 0.5, 0.9, 10, 100, 1000, 10000]\n",
    "accuaraciesTrain = []\n",
    "accuaraciesTest = []\n",
    "\n",
    "for c in (C_values):\n",
    "    # Creamos clasificador SVM\n",
    "    svc = svm.SVC(C = c)\n",
    "    # Entrenamos modelo\n",
    "    svc.fit(Xtrain_100, ytrain_100.ravel())\n",
    "    accTest = svc.score(Xtest_100, ytest_100.ravel())\n",
    "    accTrain = svc.score(Xtrain_100, ytrain_100.ravel())\n",
    "    accuaraciesTrain.append(accTrain)\n",
    "    accuaraciesTest.append(accTest)\n",
    "print(\"Los valores de C son: \", C_values)\n",
    "print(\"Precisión en train   : \", accuaraciesTrain)\n",
    "print(\"Precisión en test   : \", accuaraciesTest)"
   ]
  },
  {
   "cell_type": "code",
   "execution_count": 61,
   "metadata": {},
   "outputs": [
    {
     "data": {
      "image/png": "[encoded data removed]",
      "text/plain": [
       "<Figure size 640x480 with 1 Axes>"
      ]
     },
     "metadata": {},
     "output_type": "display_data"
    }
   ],
   "source": [
    "import pandas as pd \n",
    "data = pd.DataFrame({'Train' : accuaraciesTrain,\n",
    "                     'Test': accuaraciesTest},\n",
    "                    index=(C_values))\n",
    "n = len(data.index)\n",
    "x = np.arange(n)\n",
    "width = 0.25\n",
    "plt.bar(x - width, data.Train, width=width, label='Train')\n",
    "plt.bar(x, data.Test, width=width, label='Test')\n",
    "plt.xticks(x, data.index)\n",
    "plt.legend(loc='best')\n",
    "plt.xlabel(\"C_value\")\n",
    "plt.ylabel(\"Accuracy\")\n",
    "plt.show()"
   ]
  },
  {
   "cell_type": "code",
   "execution_count": 89,
   "metadata": {},
   "outputs": [
    {
     "name": "stdout",
     "output_type": "stream",
     "text": [
      "Los valores de C son:  [0.1, 0.5, 0.9, 10, 100, 1000]\n",
      "Precisión en train   :  [0.705, 0.705, 0.705, 0.705, 0.705, 0.705]\n",
      "Precisión en test   :  [0.6, 0.65, 0.65, 0.7, 0.7, 0.7]\n"
     ]
    }
   ],
   "source": [
    "gamma_values = [0.1, 0.5, 0.9, 10, 100, 1000]\n",
    "accuaraciesTrain = []\n",
    "accuaraciesTest = []\n",
    "\n",
    "for gamma in (gamma_values):\n",
    "    # Creamos clasificador SVM\n",
    "    svc = svm.SVC(C = 10.0, gamma=gamma)\n",
    "    # Entrenamos modelo\n",
    "    svc.fit(Xtrain_100, ytrain_100.ravel())\n",
    "    accTest = svc.score(Xtest_100, ytest_100.ravel())\n",
    "    accTrain = svc.score(Xtrain_100, ytrain_100.ravel())\n",
    "    accuaraciesTrain.append(accTrain)\n",
    "    accuaraciesTest.append(accTest)\n",
    "print(\"Los valores de C son: \", gamma_values)\n",
    "print(\"Precisión en train   : \", accuaraciesTrain)\n",
    "print(\"Precisión en test   : \", accuaraciesTest)"
   ]
  },
  {
   "cell_type": "code",
   "execution_count": 63,
   "metadata": {},
   "outputs": [
    {
     "data": {
      "image/png": "[encoded data removed]",
      "text/plain": [
       "<Figure size 640x480 with 1 Axes>"
      ]
     },
     "metadata": {},
     "output_type": "display_data"
    }
   ],
   "source": [
    "data = pd.DataFrame({'Train' : accuaraciesTrain,\n",
    "                     'Test': accuaraciesTest},\n",
    "                    index=(gamma_values))\n",
    "n = len(data.index)\n",
    "x = np.arange(n)\n",
    "width = 0.25\n",
    "plt.bar(x - width, data.Train, width=width, label='Train')\n",
    "plt.bar(x, data.Test, width=width, label='Test')\n",
    "plt.xticks(x, data.index)\n",
    "plt.legend(loc='best')\n",
    "plt.xlabel(\"gamma_value\")\n",
    "plt.ylabel(\"Accuracy\")\n",
    "plt.show()"
   ]
  },
  {
   "attachments": {},
   "cell_type": "markdown",
   "metadata": {},
   "source": [
    "#### 1000 EJEMPLOS EN TRAIN Y 200 EJEMPLOS EN TEST"
   ]
  },
  {
   "attachments": {},
   "cell_type": "markdown",
   "metadata": {},
   "source": [
    "##### SVM SIN PARÁMETROS"
   ]
  },
  {
   "cell_type": "code",
   "execution_count": 64,
   "metadata": {},
   "outputs": [
    {
     "name": "stdout",
     "output_type": "stream",
     "text": [
      "Precisión en test: 59.5\n",
      "Precisión en train: 64.0\n"
     ]
    }
   ],
   "source": [
    "# Creamos clasificador SVM\n",
    "svc = svm.SVC() \n",
    "# Entrenamos modelo\n",
    "svc.fit(Xtrain_500, ytrain_500.ravel())\n",
    "\n",
    "accTest = svc.score(Xtest_500, ytest_500.ravel())\n",
    "accTrain = svc.score(Xtrain_500, ytrain_500.ravel())\n",
    "\n",
    "print(\"Precisión en test: {}\".format(accTest*100))\n",
    "print(\"Precisión en train: {}\".format(accTrain*100))"
   ]
  },
  {
   "attachments": {},
   "cell_type": "markdown",
   "metadata": {},
   "source": [
    "##### SVM CON PARÁMETROS"
   ]
  },
  {
   "cell_type": "code",
   "execution_count": 65,
   "metadata": {},
   "outputs": [
    {
     "name": "stdout",
     "output_type": "stream",
     "text": [
      "Los valores de C son:  [0.1, 0.5, 0.9, 10, 100, 1000, 10000]\n",
      "Precisión en train   :  [0.528, 0.577, 0.637, 0.693, 0.694, 0.694, 0.694]\n",
      "Precisión en test   :  [0.535, 0.555, 0.6, 0.635, 0.625, 0.625, 0.625]\n"
     ]
    }
   ],
   "source": [
    "C_values = [0.1, 0.5, 0.9, 10, 100, 1000, 10000]\n",
    "accuaraciesTrain = []\n",
    "accuaraciesTest = []\n",
    "\n",
    "for c in (C_values):\n",
    "    # Creamos clasificador SVM\n",
    "    svc = svm.SVC(C = c)\n",
    "    # Entrenamos modelo\n",
    "    svc.fit(Xtrain_500, ytrain_500.ravel())\n",
    "    accTest = svc.score(Xtest_500, ytest_500.ravel())\n",
    "    accTrain = svc.score(Xtrain_500, ytrain_500.ravel())\n",
    "    accuaraciesTrain.append(accTrain)\n",
    "    accuaraciesTest.append(accTest)\n",
    "print(\"Los valores de C son: \", C_values)\n",
    "print(\"Precisión en train   : \", accuaraciesTrain)\n",
    "print(\"Precisión en test   : \", accuaraciesTest)"
   ]
  },
  {
   "cell_type": "code",
   "execution_count": 66,
   "metadata": {},
   "outputs": [
    {
     "data": {
      "image/png": "[encoded data removed]",
      "text/plain": [
       "<Figure size 640x480 with 1 Axes>"
      ]
     },
     "metadata": {},
     "output_type": "display_data"
    }
   ],
   "source": [
    " data = pd.DataFrame({'Train' : accuaraciesTrain,\n",
    "                     'Test': accuaraciesTest},\n",
    "                    index=(C_values))\n",
    "n = len(data.index)\n",
    "x = np.arange(n)\n",
    "width = 0.25\n",
    "plt.bar(x - width, data.Train, width=width, label='Train')\n",
    "plt.bar(x, data.Test, width=width, label='Test')\n",
    "plt.xticks(x, data.index)\n",
    "plt.legend(loc='best')\n",
    "plt.xlabel(\"C_value\")\n",
    "plt.ylabel(\"Accuracy\")\n",
    "plt.show()"
   ]
  },
  {
   "cell_type": "code",
   "execution_count": 67,
   "metadata": {},
   "outputs": [
    {
     "name": "stdout",
     "output_type": "stream",
     "text": [
      "Los valores de C son:  [0.1, 0.5, 0.9, 10, 100, 1000]\n",
      "Precisión en train   :  [0.694, 0.694, 0.694, 0.694, 0.694, 0.694]\n",
      "Precisión en test   :  [0.625, 0.675, 0.68, 0.73, 0.73, 0.73]\n"
     ]
    }
   ],
   "source": [
    "gamma_values = [0.1, 0.5, 0.9, 10, 100, 1000]\n",
    "accuaraciesTrain = []\n",
    "accuaraciesTest = []\n",
    "\n",
    "for gamma in (gamma_values):\n",
    "    # Creamos clasificador SVM\n",
    "    svc = svm.SVC(C = 100.0, gamma=gamma)\n",
    "    # Entrenamos modelo\n",
    "    svc.fit(Xtrain_500, ytrain_500.ravel())\n",
    "    accTest = svc.score(Xtest_500, ytest_500.ravel())\n",
    "    accTrain = svc.score(Xtrain_500, ytrain_500.ravel())\n",
    "    accuaraciesTrain.append(accTrain)\n",
    "    accuaraciesTest.append(accTest)\n",
    "print(\"Los valores de C son: \", gamma_values)\n",
    "print(\"Precisión en train   : \", accuaraciesTrain)\n",
    "print(\"Precisión en test   : \", accuaraciesTest)"
   ]
  },
  {
   "cell_type": "code",
   "execution_count": 68,
   "metadata": {},
   "outputs": [
    {
     "data": {
      "image/png": "[encoded data removed]",
      "text/plain": [
       "<Figure size 640x480 with 1 Axes>"
      ]
     },
     "metadata": {},
     "output_type": "display_data"
    }
   ],
   "source": [
    "data = pd.DataFrame({'Train' : accuaraciesTrain,\n",
    "                     'Test': accuaraciesTest},\n",
    "                    index=(gamma_values))\n",
    "n = len(data.index)\n",
    "x = np.arange(n)\n",
    "width = 0.25\n",
    "plt.bar(x - width, data.Train, width=width, label='Train')\n",
    "plt.bar(x, data.Test, width=width, label='Test')\n",
    "plt.xticks(x, data.index)\n",
    "plt.legend(loc='best')\n",
    "plt.xlabel(\"gamma_value\")\n",
    "plt.ylabel(\"Accuracy\")\n",
    "plt.show()"
   ]
  },
  {
   "attachments": {},
   "cell_type": "markdown",
   "metadata": {},
   "source": [
    "#### 2.2. LOGISTIC REGRESSION"
   ]
  },
  {
   "attachments": {},
   "cell_type": "markdown",
   "metadata": {},
   "source": [
    "#### 200 EJEMPLOS EN TRAIN Y 40 EJEMPLOS EN TEST"
   ]
  },
  {
   "cell_type": "code",
   "execution_count": 69,
   "metadata": {},
   "outputs": [
    {
     "name": "stdout",
     "output_type": "stream",
     "text": [
      "Precisión en test: 60.0\n",
      "Precisión en train: 70.5\n"
     ]
    }
   ],
   "source": [
    "regr = LogisticRegression()\n",
    "regr.fit(Xtrain_100, ytrain_100)\n",
    "accTest = regr.score(Xtest_100, ytest_100)\n",
    "accTrain = regr.score(Xtrain_100, ytrain_100)\n",
    "print(\"Precisión en test: {}\".format(accTest*100))\n",
    "print(\"Precisión en train: {}\".format(accTrain*100))"
   ]
  },
  {
   "attachments": {},
   "cell_type": "markdown",
   "metadata": {},
   "source": [
    "#### 1000 EJEMPLOS EN TRAIN Y 200 EJEMPLOS EN TEST"
   ]
  },
  {
   "cell_type": "code",
   "execution_count": 70,
   "metadata": {},
   "outputs": [
    {
     "name": "stdout",
     "output_type": "stream",
     "text": [
      "Precisión en test: 62.0\n",
      "Precisión en train: 68.8\n"
     ]
    }
   ],
   "source": [
    "regr = LogisticRegression()\n",
    "regr.fit(Xtrain_500, ytrain_500)\n",
    "accTest = regr.score(Xtest_500, ytest_500)\n",
    "accTrain = regr.score(Xtrain_500, ytrain_500)\n",
    "print(\"Precisión en test: {}\".format(accTest*100))\n",
    "print(\"Precisión en train: {}\".format(accTrain*100))"
   ]
  },
  {
   "attachments": {},
   "cell_type": "markdown",
   "metadata": {},
   "source": [
    "#### 2.3. REDES NEURONALES"
   ]
  },
  {
   "attachments": {},
   "cell_type": "markdown",
   "metadata": {},
   "source": [
    "#### 200 EJEMPLOS EN TRAIN Y 40 EJEMPLOS EN TEST"
   ]
  },
  {
   "cell_type": "code",
   "execution_count": 71,
   "metadata": {},
   "outputs": [
    {
     "name": "stdout",
     "output_type": "stream",
     "text": [
      "Precisión en test: 62.5\n",
      "Precisión en train: 70.5\n"
     ]
    }
   ],
   "source": [
    "clf = MLPClassifier()\n",
    "clf.fit(Xtrain_100, ytrain_100)\n",
    "accTrain = clf.score(Xtrain_100, ytrain_100)\n",
    "accTest = clf.score(Xtest_100, ytest_100)\n",
    "\n",
    "print(\"Precisión en test: {}\".format(accTest*100))\n",
    "print(\"Precisión en train: {}\".format(accTrain*100))"
   ]
  },
  {
   "attachments": {},
   "cell_type": "markdown",
   "metadata": {},
   "source": [
    "#### 1000 EJEMPLOS EN TRAIN Y 200 EJEMPLOS EN TEST"
   ]
  },
  {
   "cell_type": "code",
   "execution_count": 72,
   "metadata": {},
   "outputs": [
    {
     "name": "stdout",
     "output_type": "stream",
     "text": [
      "Precisión en test: 61.0\n",
      "Precisión en train: 69.39999999999999\n"
     ]
    }
   ],
   "source": [
    "clf = MLPClassifier()\n",
    "clf.fit(Xtrain_500, ytrain_500)\n",
    "accTrain = clf.score(Xtrain_500, ytrain_500)\n",
    "accTest = clf.score(Xtest_500, ytest_500)\n",
    "\n",
    "print(\"Precisión en test: {}\".format(accTest*100))\n",
    "print(\"Precisión en train: {}\".format(accTrain*100))"
   ]
  },
  {
   "attachments": {},
   "cell_type": "markdown",
   "metadata": {},
   "source": [
    "#### 2.4. ADABOOST CON DECISION STUMP"
   ]
  },
  {
   "attachments": {},
   "cell_type": "markdown",
   "metadata": {},
   "source": [
    "#### 200 EJEMPLOS EN TRAIN Y 40 EJEMPLOS EN TEST"
   ]
  },
  {
   "cell_type": "code",
   "execution_count": 73,
   "metadata": {},
   "outputs": [
    {
     "name": "stdout",
     "output_type": "stream",
     "text": [
      "Precisión en test: 57.49999999999999\n",
      "Precisión en train: 70.0\n"
     ]
    }
   ],
   "source": [
    "numClasificadoresBase = 30\n",
    "adaboost = AdaBoostClassifier(base_estimator= DecisionTreeClassifier(criterion='entropy', max_depth=1), n_estimators=numClasificadoresBase, random_state=12)\n",
    "adaboost.fit(Xtrain_100, ytrain_100)\n",
    "\n",
    "accTrain = adaboost.score(Xtrain_100, ytrain_100)\n",
    "accTest = adaboost.score(Xtest_100, ytest_100)\n",
    "\n",
    "print(\"Precisión en test: {}\".format(accTest*100))\n",
    "print(\"Precisión en train: {}\".format(accTrain*100))"
   ]
  },
  {
   "attachments": {},
   "cell_type": "markdown",
   "metadata": {},
   "source": [
    "#### 1000 EJEMPLOS EN TRAIN Y 200 EJEMPLOS EN TEST"
   ]
  },
  {
   "cell_type": "code",
   "execution_count": 74,
   "metadata": {},
   "outputs": [
    {
     "name": "stdout",
     "output_type": "stream",
     "text": [
      "Precisión en test: 53.0\n",
      "Precisión en train: 59.599999999999994\n"
     ]
    }
   ],
   "source": [
    "numClasificadoresBase = 30\n",
    "adaboost = AdaBoostClassifier(base_estimator= DecisionTreeClassifier(criterion='entropy', max_depth=1), n_estimators=numClasificadoresBase, random_state=12)\n",
    "adaboost.fit(Xtrain_500, ytrain_500)\n",
    "\n",
    "accTrain = adaboost.score(Xtrain_500, ytrain_500)\n",
    "accTest = adaboost.score(Xtest_500, ytest_500)\n",
    "\n",
    "print(\"Precisión en test: {}\".format(accTest*100))\n",
    "print(\"Precisión en train: {}\".format(accTrain*100))"
   ]
  }
 ],
 "metadata": {
  "kernelspec": {
   "display_name": "Python 3",
   "language": "python",
   "name": "python3"
  },
  "language_info": {
   "codemirror_mode": {
    "name": "ipython",
    "version": 3
   },
   "file_extension": ".py",
   "mimetype": "text/x-python",
   "name": "python",
   "nbconvert_exporter": "python",
   "pygments_lexer": "ipython3",
   "version": "3.10.9 (tags/v3.10.9:1dd9be6, Dec  6 2022, 20:01:21) [MSC v.1934 64 bit (AMD64)]"
  },
  "orig_nbformat": 4,
  "vscode": {
   "interpreter": {
    "hash": "e336820fcaa471ddeb154011c0e8e504aaec185dd0d71b76d5fb9fe9be8ffa2e"
   }
  }
 },
 "nbformat": 4,
 "nbformat_minor": 2
}
